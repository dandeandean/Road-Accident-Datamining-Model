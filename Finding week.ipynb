{
 "cells": [
  {
   "cell_type": "code",
   "execution_count": 1,
   "id": "cd95cb82",
   "metadata": {},
   "outputs": [],
   "source": [
    "import pandas as pd"
   ]
  },
  {
   "cell_type": "code",
   "execution_count": 2,
   "id": "50b6f694",
   "metadata": {},
   "outputs": [],
   "source": [
    "siniestros_df = pd.read_csv(\"data/siniestros.csv\")"
   ]
  },
  {
   "cell_type": "code",
   "execution_count": 3,
   "id": "bc45f169",
   "metadata": {},
   "outputs": [
    {
     "data": {
      "text/html": [
       "<div>\n",
       "<style scoped>\n",
       "    .dataframe tbody tr th:only-of-type {\n",
       "        vertical-align: middle;\n",
       "    }\n",
       "\n",
       "    .dataframe tbody tr th {\n",
       "        vertical-align: top;\n",
       "    }\n",
       "\n",
       "    .dataframe thead th {\n",
       "        text-align: right;\n",
       "    }\n",
       "</style>\n",
       "<table border=\"1\" class=\"dataframe\">\n",
       "  <thead>\n",
       "    <tr style=\"text-align: right;\">\n",
       "      <th></th>\n",
       "      <th>CODIGO_ACCIDENTE</th>\n",
       "      <th>FECHA</th>\n",
       "      <th>HORA</th>\n",
       "      <th>GRAVEDAD</th>\n",
       "      <th>CLASE</th>\n",
       "      <th>CHOQUE</th>\n",
       "      <th>OBJETO_FIJO</th>\n",
       "      <th>DIRECCION</th>\n",
       "      <th>CODIGO_LOCALIDAD</th>\n",
       "      <th>DISENO_LUGAR</th>\n",
       "    </tr>\n",
       "  </thead>\n",
       "  <tbody>\n",
       "    <tr>\n",
       "      <th>0</th>\n",
       "      <td>4401438</td>\n",
       "      <td>01/01/2015</td>\n",
       "      <td>01:05:00</td>\n",
       "      <td>2</td>\n",
       "      <td>2</td>\n",
       "      <td>NaN</td>\n",
       "      <td>NaN</td>\n",
       "      <td>KR 64A-CL 2C 02</td>\n",
       "      <td>16</td>\n",
       "      <td>2</td>\n",
       "    </tr>\n",
       "    <tr>\n",
       "      <th>1</th>\n",
       "      <td>4401449</td>\n",
       "      <td>01/01/2015</td>\n",
       "      <td>05:50:00</td>\n",
       "      <td>2</td>\n",
       "      <td>3</td>\n",
       "      <td>NaN</td>\n",
       "      <td>NaN</td>\n",
       "      <td>AV AVENIDA DEL SUR-KR 65A 41</td>\n",
       "      <td>7</td>\n",
       "      <td>1</td>\n",
       "    </tr>\n",
       "    <tr>\n",
       "      <th>2</th>\n",
       "      <td>4401430</td>\n",
       "      <td>01/01/2015</td>\n",
       "      <td>07:15:00</td>\n",
       "      <td>2</td>\n",
       "      <td>3</td>\n",
       "      <td>NaN</td>\n",
       "      <td>NaN</td>\n",
       "      <td>KR 19D-CL 62 S 02</td>\n",
       "      <td>19</td>\n",
       "      <td>1</td>\n",
       "    </tr>\n",
       "    <tr>\n",
       "      <th>3</th>\n",
       "      <td>4401453</td>\n",
       "      <td>01/01/2015</td>\n",
       "      <td>09:30:00</td>\n",
       "      <td>3</td>\n",
       "      <td>1</td>\n",
       "      <td>1.0</td>\n",
       "      <td>NaN</td>\n",
       "      <td>KR 79-CL 42F S 71</td>\n",
       "      <td>8</td>\n",
       "      <td>1</td>\n",
       "    </tr>\n",
       "    <tr>\n",
       "      <th>4</th>\n",
       "      <td>4401423</td>\n",
       "      <td>01/01/2015</td>\n",
       "      <td>09:45:00</td>\n",
       "      <td>2</td>\n",
       "      <td>1</td>\n",
       "      <td>1.0</td>\n",
       "      <td>NaN</td>\n",
       "      <td>CL 66A-KR 76 02</td>\n",
       "      <td>10</td>\n",
       "      <td>2</td>\n",
       "    </tr>\n",
       "    <tr>\n",
       "      <th>...</th>\n",
       "      <td>...</td>\n",
       "      <td>...</td>\n",
       "      <td>...</td>\n",
       "      <td>...</td>\n",
       "      <td>...</td>\n",
       "      <td>...</td>\n",
       "      <td>...</td>\n",
       "      <td>...</td>\n",
       "      <td>...</td>\n",
       "      <td>...</td>\n",
       "    </tr>\n",
       "    <tr>\n",
       "      <th>196147</th>\n",
       "      <td>10530481</td>\n",
       "      <td>31/12/2020</td>\n",
       "      <td>21:20:00</td>\n",
       "      <td>3</td>\n",
       "      <td>1</td>\n",
       "      <td>1.0</td>\n",
       "      <td>NaN</td>\n",
       "      <td>CL 42-KR 86 S 02</td>\n",
       "      <td>8</td>\n",
       "      <td>1</td>\n",
       "    </tr>\n",
       "    <tr>\n",
       "      <th>196148</th>\n",
       "      <td>10530439</td>\n",
       "      <td>31/12/2020</td>\n",
       "      <td>21:30:00</td>\n",
       "      <td>2</td>\n",
       "      <td>1</td>\n",
       "      <td>1.0</td>\n",
       "      <td>NaN</td>\n",
       "      <td>KR 111-CL 171 02</td>\n",
       "      <td>11</td>\n",
       "      <td>2</td>\n",
       "    </tr>\n",
       "    <tr>\n",
       "      <th>196149</th>\n",
       "      <td>10530491</td>\n",
       "      <td>31/12/2020</td>\n",
       "      <td>21:34:00</td>\n",
       "      <td>3</td>\n",
       "      <td>1</td>\n",
       "      <td>1.0</td>\n",
       "      <td>NaN</td>\n",
       "      <td>CL 134-KR 5 08</td>\n",
       "      <td>1</td>\n",
       "      <td>1</td>\n",
       "    </tr>\n",
       "    <tr>\n",
       "      <th>196150</th>\n",
       "      <td>10531380</td>\n",
       "      <td>31/12/2020</td>\n",
       "      <td>21:40:00</td>\n",
       "      <td>2</td>\n",
       "      <td>1</td>\n",
       "      <td>1.0</td>\n",
       "      <td>NaN</td>\n",
       "      <td>CL 142 - KR 146  02</td>\n",
       "      <td>11</td>\n",
       "      <td>1</td>\n",
       "    </tr>\n",
       "    <tr>\n",
       "      <th>196151</th>\n",
       "      <td>10530469</td>\n",
       "      <td>31/12/2020</td>\n",
       "      <td>22:34:00</td>\n",
       "      <td>3</td>\n",
       "      <td>1</td>\n",
       "      <td>1.0</td>\n",
       "      <td>NaN</td>\n",
       "      <td>KR 52-DG 16 S 02</td>\n",
       "      <td>16</td>\n",
       "      <td>2</td>\n",
       "    </tr>\n",
       "  </tbody>\n",
       "</table>\n",
       "<p>196152 rows × 10 columns</p>\n",
       "</div>"
      ],
      "text/plain": [
       "        CODIGO_ACCIDENTE       FECHA      HORA  GRAVEDAD  CLASE  CHOQUE  \\\n",
       "0                4401438  01/01/2015  01:05:00         2      2     NaN   \n",
       "1                4401449  01/01/2015  05:50:00         2      3     NaN   \n",
       "2                4401430  01/01/2015  07:15:00         2      3     NaN   \n",
       "3                4401453  01/01/2015  09:30:00         3      1     1.0   \n",
       "4                4401423  01/01/2015  09:45:00         2      1     1.0   \n",
       "...                  ...         ...       ...       ...    ...     ...   \n",
       "196147          10530481  31/12/2020  21:20:00         3      1     1.0   \n",
       "196148          10530439  31/12/2020  21:30:00         2      1     1.0   \n",
       "196149          10530491  31/12/2020  21:34:00         3      1     1.0   \n",
       "196150          10531380  31/12/2020  21:40:00         2      1     1.0   \n",
       "196151          10530469  31/12/2020  22:34:00         3      1     1.0   \n",
       "\n",
       "        OBJETO_FIJO                     DIRECCION  CODIGO_LOCALIDAD  \\\n",
       "0               NaN               KR 64A-CL 2C 02                16   \n",
       "1               NaN  AV AVENIDA DEL SUR-KR 65A 41                 7   \n",
       "2               NaN             KR 19D-CL 62 S 02                19   \n",
       "3               NaN             KR 79-CL 42F S 71                 8   \n",
       "4               NaN               CL 66A-KR 76 02                10   \n",
       "...             ...                           ...               ...   \n",
       "196147          NaN              CL 42-KR 86 S 02                 8   \n",
       "196148          NaN              KR 111-CL 171 02                11   \n",
       "196149          NaN                CL 134-KR 5 08                 1   \n",
       "196150          NaN           CL 142 - KR 146  02                11   \n",
       "196151          NaN              KR 52-DG 16 S 02                16   \n",
       "\n",
       "        DISENO_LUGAR  \n",
       "0                  2  \n",
       "1                  1  \n",
       "2                  1  \n",
       "3                  1  \n",
       "4                  2  \n",
       "...              ...  \n",
       "196147             1  \n",
       "196148             2  \n",
       "196149             1  \n",
       "196150             1  \n",
       "196151             2  \n",
       "\n",
       "[196152 rows x 10 columns]"
      ]
     },
     "execution_count": 3,
     "metadata": {},
     "output_type": "execute_result"
    }
   ],
   "source": [
    "siniestros_df"
   ]
  },
  {
   "cell_type": "code",
   "execution_count": null,
   "id": "92fd402d",
   "metadata": {},
   "outputs": [],
   "source": []
  },
  {
   "cell_type": "code",
   "execution_count": 8,
   "id": "19ecd263",
   "metadata": {},
   "outputs": [],
   "source": [
    "siniestros_df[\"datetime\"] = pd.to_datetime(siniestros_df[\"FECHA\"].str.cat(siniestros_df[\"HORA\"], sep=\" \"), format=\"mixed\")\n"
   ]
  },
  {
   "cell_type": "code",
   "execution_count": 10,
   "id": "7e516d93",
   "metadata": {},
   "outputs": [
    {
     "data": {
      "text/plain": [
       "FECHA\n",
       "06/12/2019    155\n",
       "11/05/2018    155\n",
       "08/06/2018    151\n",
       "15/11/2016    150\n",
       "08/11/2016    149\n",
       "             ... \n",
       "25/03/2020      7\n",
       "12/04/2020      7\n",
       "23/03/2020      5\n",
       "10/04/2020      5\n",
       "21/03/2020      4\n",
       "Name: count, Length: 2192, dtype: int64"
      ]
     },
     "execution_count": 10,
     "metadata": {},
     "output_type": "execute_result"
    }
   ],
   "source": [
    "siniestros_df.FECHA.value_counts()"
   ]
  },
  {
   "cell_type": "code",
   "execution_count": 25,
   "id": "bccd2140",
   "metadata": {},
   "outputs": [],
   "source": [
    "siniestros_df[\"week\"] = siniestros_df.datetime.apply(lambda x: x.isocalendar()[1])"
   ]
  },
  {
   "cell_type": "code",
   "execution_count": 31,
   "id": "2d648085",
   "metadata": {},
   "outputs": [
    {
     "data": {
      "text/plain": [
       "<Axes: xlabel='week'>"
      ]
     },
     "execution_count": 31,
     "metadata": {},
     "output_type": "execute_result"
    },
    {
     "data": {
      "image/png": "[encoded data removed]",
      "text/plain": [
       "<Figure size 640x480 with 1 Axes>"
      ]
     },
     "metadata": {},
     "output_type": "display_data"
    }
   ],
   "source": [
    "siniestros_df.week.value_counts().sort_index().plot(kind =\"bar\")"
   ]
  },
  {
   "cell_type": "code",
   "execution_count": null,
   "id": "37e2d9ae",
   "metadata": {},
   "outputs": [],
   "source": []
  }
 ],
 "metadata": {
  "kernelspec": {
   "display_name": "Python 3 (ipykernel)",
   "language": "python",
   "name": "python3"
  },
  "language_info": {
   "codemirror_mode": {
    "name": "ipython",
    "version": 3
   },
   "file_extension": ".py",
   "mimetype": "text/x-python",
   "name": "python",
   "nbconvert_exporter": "python",
   "pygments_lexer": "ipython3",
   "version": "3.10.9"
  }
 },
 "nbformat": 4,
 "nbformat_minor": 5
}
