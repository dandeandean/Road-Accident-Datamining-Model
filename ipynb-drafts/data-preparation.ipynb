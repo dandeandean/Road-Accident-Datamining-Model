{
 "cells": [
  {
   "cell_type": "code",
   "execution_count": null,
   "metadata": {},
   "outputs": [],
   "source": [
    "import pandas as pd"
   ]
  },
  {
   "cell_type": "code",
   "execution_count": null,
   "metadata": {},
   "outputs": [],
   "source": [
    "file_name = \"base-data.xlsx\"\n",
    "exploring_actor_vial_df = pd.read_excel(io=file_name, sheet_name='ACTOR_VIAL')\n",
    "exploring_vehiculos_df = pd.read_excel(io=file_name, sheet_name='VEHICULOS')\n",
    "\n",
    "siniestros_df = pd.read_excel(io=file_name, sheet_name='SINIESTROS')\n",
    "hipothesis_df = pd.read_excel(io=file_name, sheet_name='HIPOTESIS')"
   ]
  },
  {
   "cell_type": "code",
   "execution_count": 11,
   "metadata": {},
   "outputs": [
    {
     "data": {
      "text/plain": [
       "(233819, 3)"
      ]
     },
     "execution_count": 11,
     "metadata": {},
     "output_type": "execute_result"
    }
   ],
   "source": [
    "#DELETE ME LATER\n",
    "hipothesis_df.shape"
   ]
  },
  {
   "cell_type": "code",
   "execution_count": 3,
   "metadata": {},
   "outputs": [
    {
     "data": {
      "text/html": [
       "<div>\n",
       "<style scoped>\n",
       "    .dataframe tbody tr th:only-of-type {\n",
       "        vertical-align: middle;\n",
       "    }\n",
       "\n",
       "    .dataframe tbody tr th {\n",
       "        vertical-align: top;\n",
       "    }\n",
       "\n",
       "    .dataframe thead th {\n",
       "        text-align: right;\n",
       "    }\n",
       "</style>\n",
       "<table border=\"1\" class=\"dataframe\">\n",
       "  <thead>\n",
       "    <tr style=\"text-align: right;\">\n",
       "      <th></th>\n",
       "      <th>CODIGO_ACCIDENTE</th>\n",
       "      <th>CODIGO_ACCIDENTADO</th>\n",
       "      <th>FECHA</th>\n",
       "      <th>CONDICION</th>\n",
       "      <th>ESTADO</th>\n",
       "      <th>EDAD</th>\n",
       "      <th>SEXO</th>\n",
       "      <th>VEHICULO</th>\n",
       "    </tr>\n",
       "  </thead>\n",
       "  <tbody>\n",
       "    <tr>\n",
       "      <th>0</th>\n",
       "      <td>4401447</td>\n",
       "      <td>2452576</td>\n",
       "      <td>01/01/2015</td>\n",
       "      <td>CONDUCTOR</td>\n",
       "      <td>ILESO</td>\n",
       "      <td>44</td>\n",
       "      <td>FEMENINO</td>\n",
       "      <td>4401447-1</td>\n",
       "    </tr>\n",
       "    <tr>\n",
       "      <th>1</th>\n",
       "      <td>4401447</td>\n",
       "      <td>2452577</td>\n",
       "      <td>01/01/2015</td>\n",
       "      <td>CONDUCTOR</td>\n",
       "      <td>ILESO</td>\n",
       "      <td>31</td>\n",
       "      <td>MASCULINO</td>\n",
       "      <td>4401447-2</td>\n",
       "    </tr>\n",
       "    <tr>\n",
       "      <th>2</th>\n",
       "      <td>4401453</td>\n",
       "      <td>2452586</td>\n",
       "      <td>01/01/2015</td>\n",
       "      <td>CONDUCTOR</td>\n",
       "      <td>ILESO</td>\n",
       "      <td>47</td>\n",
       "      <td>MASCULINO</td>\n",
       "      <td>4401453-1</td>\n",
       "    </tr>\n",
       "    <tr>\n",
       "      <th>3</th>\n",
       "      <td>4401453</td>\n",
       "      <td>2452587</td>\n",
       "      <td>01/01/2015</td>\n",
       "      <td>CONDUCTOR</td>\n",
       "      <td>ILESO</td>\n",
       "      <td>29</td>\n",
       "      <td>MASCULINO</td>\n",
       "      <td>4401453-2</td>\n",
       "    </tr>\n",
       "    <tr>\n",
       "      <th>4</th>\n",
       "      <td>4401423</td>\n",
       "      <td>2452500</td>\n",
       "      <td>01/01/2015</td>\n",
       "      <td>CONDUCTOR</td>\n",
       "      <td>HERIDO</td>\n",
       "      <td>44</td>\n",
       "      <td>MASCULINO</td>\n",
       "      <td>4401423-1</td>\n",
       "    </tr>\n",
       "    <tr>\n",
       "      <th>...</th>\n",
       "      <td>...</td>\n",
       "      <td>...</td>\n",
       "      <td>...</td>\n",
       "      <td>...</td>\n",
       "      <td>...</td>\n",
       "      <td>...</td>\n",
       "      <td>...</td>\n",
       "      <td>...</td>\n",
       "    </tr>\n",
       "    <tr>\n",
       "      <th>422411</th>\n",
       "      <td>10530492</td>\n",
       "      <td>12728799</td>\n",
       "      <td>31/12/2020</td>\n",
       "      <td>CONDUCTOR</td>\n",
       "      <td>ILESO</td>\n",
       "      <td>27</td>\n",
       "      <td>MASCULINO</td>\n",
       "      <td>10530492-2</td>\n",
       "    </tr>\n",
       "    <tr>\n",
       "      <th>422412</th>\n",
       "      <td>10530494</td>\n",
       "      <td>12728800</td>\n",
       "      <td>31/12/2020</td>\n",
       "      <td>CONDUCTOR</td>\n",
       "      <td>ILESO</td>\n",
       "      <td>39</td>\n",
       "      <td>MASCULINO</td>\n",
       "      <td>10530494-1</td>\n",
       "    </tr>\n",
       "    <tr>\n",
       "      <th>422413</th>\n",
       "      <td>10530494</td>\n",
       "      <td>12728801</td>\n",
       "      <td>31/12/2020</td>\n",
       "      <td>CONDUCTOR</td>\n",
       "      <td>ILESO</td>\n",
       "      <td>55</td>\n",
       "      <td>MASCULINO</td>\n",
       "      <td>10530494-2</td>\n",
       "    </tr>\n",
       "    <tr>\n",
       "      <th>422414</th>\n",
       "      <td>10530493</td>\n",
       "      <td>12728802</td>\n",
       "      <td>31/12/2020</td>\n",
       "      <td>CONDUCTOR</td>\n",
       "      <td>ILESO</td>\n",
       "      <td>55</td>\n",
       "      <td>MASCULINO</td>\n",
       "      <td>10530493-1</td>\n",
       "    </tr>\n",
       "    <tr>\n",
       "      <th>422415</th>\n",
       "      <td>10530493</td>\n",
       "      <td>12728803</td>\n",
       "      <td>31/12/2020</td>\n",
       "      <td>CONDUCTOR</td>\n",
       "      <td>ILESO</td>\n",
       "      <td>25</td>\n",
       "      <td>MASCULINO</td>\n",
       "      <td>10530493-2</td>\n",
       "    </tr>\n",
       "  </tbody>\n",
       "</table>\n",
       "<p>422416 rows × 8 columns</p>\n",
       "</div>"
      ],
      "text/plain": [
       "        CODIGO_ACCIDENTE  CODIGO_ACCIDENTADO       FECHA  CONDICION  ESTADO  \\\n",
       "0                4401447             2452576  01/01/2015  CONDUCTOR   ILESO   \n",
       "1                4401447             2452577  01/01/2015  CONDUCTOR   ILESO   \n",
       "2                4401453             2452586  01/01/2015  CONDUCTOR   ILESO   \n",
       "3                4401453             2452587  01/01/2015  CONDUCTOR   ILESO   \n",
       "4                4401423             2452500  01/01/2015  CONDUCTOR  HERIDO   \n",
       "...                  ...                 ...         ...        ...     ...   \n",
       "422411          10530492            12728799  31/12/2020  CONDUCTOR   ILESO   \n",
       "422412          10530494            12728800  31/12/2020  CONDUCTOR   ILESO   \n",
       "422413          10530494            12728801  31/12/2020  CONDUCTOR   ILESO   \n",
       "422414          10530493            12728802  31/12/2020  CONDUCTOR   ILESO   \n",
       "422415          10530493            12728803  31/12/2020  CONDUCTOR   ILESO   \n",
       "\n",
       "       EDAD       SEXO    VEHICULO  \n",
       "0        44   FEMENINO   4401447-1  \n",
       "1        31  MASCULINO   4401447-2  \n",
       "2        47  MASCULINO   4401453-1  \n",
       "3        29  MASCULINO   4401453-2  \n",
       "4        44  MASCULINO   4401423-1  \n",
       "...     ...        ...         ...  \n",
       "422411   27  MASCULINO  10530492-2  \n",
       "422412   39  MASCULINO  10530494-1  \n",
       "422413   55  MASCULINO  10530494-2  \n",
       "422414   55  MASCULINO  10530493-1  \n",
       "422415   25  MASCULINO  10530493-2  \n",
       "\n",
       "[422416 rows x 8 columns]"
      ]
     },
     "execution_count": 3,
     "metadata": {},
     "output_type": "execute_result"
    }
   ],
   "source": [
    "master_df = exploring_actor_vial_df\n",
    "\n",
    "\n",
    "master_df\n"
   ]
  },
  {
   "cell_type": "code",
   "execution_count": null,
   "metadata": {},
   "outputs": [],
   "source": [
    "actor_vehiculos_df = master_df.merge(exploring_vehiculos_df, on='VEHICULO', how='left')\n",
    "actor_vehiculos_df\n"
   ]
  },
  {
   "cell_type": "code",
   "execution_count": null,
   "metadata": {},
   "outputs": [],
   "source": [
    "#actor_vehiculos_df\n",
    "\n",
    "actor_vehiculos_df.VEHICULO.value_counts()#[:n].index.array"
   ]
  },
  {
   "cell_type": "code",
   "execution_count": null,
   "metadata": {},
   "outputs": [],
   "source": [
    "#exploring_actor_vial_df.VEHICULO.filter(isnull())\n",
    "\n",
    "actor_vehiculos_df[actor_vehiculos_df.isna().any(axis=1)]"
   ]
  },
  {
   "cell_type": "code",
   "execution_count": null,
   "metadata": {},
   "outputs": [],
   "source": [
    "actor_vehiculos_siniestros_df = actor_vehiculos_df\n",
    "\n",
    "actor_vehiculos_siniestros_df['CODIGO_ACCIDENTE'] = actor_vehiculos_siniestros_df['CODIGO_ACCIDENTE_x']\n",
    "actor_vehiculos_siniestros_df\n",
    "\n"
   ]
  },
  {
   "cell_type": "code",
   "execution_count": null,
   "metadata": {},
   "outputs": [],
   "source": [
    "\n",
    "actor_vehiculos_siniestros_df = actor_vehiculos_df.merge(siniestros_df, on='CODIGO_ACCIDENTE')\n",
    "\n",
    "actor_vehiculos_siniestros_df"
   ]
  },
  {
   "cell_type": "code",
   "execution_count": null,
   "metadata": {},
   "outputs": [],
   "source": [
    "prepared_df = actor_vehiculos_siniestros_df \n",
    "prepared_df"
   ]
  },
  {
   "cell_type": "code",
   "execution_count": null,
   "metadata": {},
   "outputs": [],
   "source": [
    "\n",
    "prepared_df = actor_vehiculos_siniestros_df.drop([\"CODIGO_ACCIDENTE_x\", \"CODIGO_ACCIDENTE_y\", \"FECHA_y\",  ], axis=1)\n",
    "\n",
    "prepared_df\n",
    "\n",
    "#print(prepared_df.columns.tolist())"
   ]
  },
  {
   "cell_type": "code",
   "execution_count": null,
   "metadata": {},
   "outputs": [],
   "source": [
    "prepared_df\n"
   ]
  }
 ],
 "metadata": {
  "kernelspec": {
   "display_name": "Python 3",
   "language": "python",
   "name": "python3"
  },
  "language_info": {
   "codemirror_mode": {
    "name": "ipython",
    "version": 3
   },
   "file_extension": ".py",
   "mimetype": "text/x-python",
   "name": "python",
   "nbconvert_exporter": "python",
   "pygments_lexer": "ipython3",
   "version": "3.10.13"
  }
 },
 "nbformat": 4,
 "nbformat_minor": 2
}
