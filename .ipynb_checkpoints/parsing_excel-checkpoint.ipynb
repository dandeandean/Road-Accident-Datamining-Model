{
 "cells": [
  {
   "cell_type": "code",
   "execution_count": 1,
   "id": "bdfb3768",
   "metadata": {},
   "outputs": [],
   "source": [
    "import latent_calendar\n",
    "import pandas as pd"
   ]
  },
  {
   "cell_type": "code",
   "execution_count": 3,
   "id": "6195605a",
   "metadata": {},
   "outputs": [],
   "source": [
    "#base_df = pd.read_excel(\"base-data.xlsx\")\n",
    "file_name = \"base-data.xlsx\"\n",
    "#exploring_actor_vial_df = pd.read_excel(io=file_name, sheet_name='ACTOR_VIAL')\n",
    "#exploring_vehiculos_df = pd.read_excel(io=file_name, sheet_name='VEHICULOS')\n",
    "\n",
    "siniestros_df = pd.read_excel(io=file_name, sheet_name='SINIESTROS')\n",
    "hipothesis_df = pd.read_excel(io=file_name, sheet_name='HIPOTESIS')"
   ]
  },
  {
   "cell_type": "markdown",
   "id": "4ba98816",
   "metadata": {},
   "source": [
    "# Combining Dataframes\n",
    "see: https://datacarpentry.org/python-ecology-lesson/05-merging-data.html\n",
    "\n",
    "It appears (from looking at the data in excel) that diniestros and hipothesis are the only two datapoints that are 1-1, whereas the others are metadata about each car crash."
   ]
  },
  {
   "cell_type": "code",
   "execution_count": 4,
   "id": "d8a378e1",
   "metadata": {},
   "outputs": [
    {
     "data": {
      "text/plain": [
       "196152"
      ]
     },
     "execution_count": 4,
     "metadata": {},
     "output_type": "execute_result"
    }
   ],
   "source": [
    "siniestros_df[\"CODIGO_ACCIDENTE\"].nunique()"
   ]
  },
  {
   "cell_type": "code",
   "execution_count": 5,
   "id": "76a78858",
   "metadata": {},
   "outputs": [
    {
     "data": {
      "text/plain": [
       "195735"
      ]
     },
     "execution_count": 5,
     "metadata": {},
     "output_type": "execute_result"
    }
   ],
   "source": [
    "hipothesis_df[\"CODIGO_ACCIDENTE\"].nunique()"
   ]
  },
  {
   "cell_type": "code",
   "execution_count": 6,
   "id": "062a3df9",
   "metadata": {},
   "outputs": [],
   "source": [
    "common_keys = ['CODIGO_ACCIDENTE','FECHA']"
   ]
  },
  {
   "cell_type": "code",
   "execution_count": 7,
   "id": "bd0b4efc",
   "metadata": {},
   "outputs": [],
   "source": [
    "merged_inner = pd.merge(left=siniestros_df, right=hipothesis_df, left_on=common_keys, right_on=common_keys)"
   ]
  },
  {
   "cell_type": "code",
   "execution_count": 13,
   "id": "eda575fd",
   "metadata": {},
   "outputs": [],
   "source": [
    "merged_inner[\"datetime\"] = pd.to_datetime(merged_inner[\"FECHA\"].str.cat(merged_inner[\"HORA\"], sep=\" \"), format=\"mixed\")"
   ]
  },
  {
   "cell_type": "code",
   "execution_count": 26,
   "id": "2650dc43",
   "metadata": {},
   "outputs": [
    {
     "data": {
      "text/plain": [
       "DIRECCION\n",
       "KR 80-CL 2 51                         253\n",
       "AV AVENIDA BOYACA-CL 80 02            183\n",
       "AV AVENIDA CIUDAD DE CALI-CL 26 02    172\n",
       "CL 13-KR 72 02                        170\n",
       "AV AVENIDA BOYACA-CL 13 02            168\n",
       "                                     ... \n",
       "KR 21-CL 145A 02                        1\n",
       "CL 145-KR 99B 02                        1\n",
       "CL 58A-KR 49A S 69                      1\n",
       "CL 170-KR 93 02                         1\n",
       "CL 142 - KR 146  02                     1\n",
       "Name: count, Length: 92369, dtype: int64"
      ]
     },
     "execution_count": 26,
     "metadata": {},
     "output_type": "execute_result"
    }
   ],
   "source": [
    "merged_inner[\"DIRECCION\"].value_counts()"
   ]
  },
  {
   "cell_type": "code",
   "execution_count": 54,
   "id": "1cf59cff",
   "metadata": {},
   "outputs": [
    {
     "data": {
      "text/plain": [
       "GRAVEDAD\n",
       "1    0.016846\n",
       "2    0.353513\n",
       "3    0.629641\n",
       "dtype: float64"
      ]
     },
     "execution_count": 54,
     "metadata": {},
     "output_type": "execute_result"
    }
   ],
   "source": [
    "df_location.sum(axis=1).pipe(lambda ser: ser / ser.sum())"
   ]
  },
  {
   "cell_type": "code",
   "execution_count": 61,
   "id": "32be929f",
   "metadata": {},
   "outputs": [],
   "source": [
    "df_location = merged_inner.cal.aggregate_events(\"DIRECCION\", \"datetime\")\n",
    "\n",
    "# df_location.cal.normalize(\"max\").cal.sum_over_vocab(\"hour\").T.plot()"
   ]
  },
  {
   "cell_type": "code",
   "execution_count": 65,
   "id": "28492c5b",
   "metadata": {},
   "outputs": [
    {
     "data": {
      "text/html": [
       "<div>\n",
       "<style scoped>\n",
       "    .dataframe tbody tr th:only-of-type {\n",
       "        vertical-align: middle;\n",
       "    }\n",
       "\n",
       "    .dataframe tbody tr th {\n",
       "        vertical-align: top;\n",
       "    }\n",
       "\n",
       "    .dataframe thead th {\n",
       "        text-align: right;\n",
       "    }\n",
       "</style>\n",
       "<table border=\"1\" class=\"dataframe\">\n",
       "  <thead>\n",
       "    <tr style=\"text-align: right;\">\n",
       "      <th>vocab</th>\n",
       "      <th>00 00</th>\n",
       "      <th>00 01</th>\n",
       "      <th>00 02</th>\n",
       "      <th>00 03</th>\n",
       "      <th>00 04</th>\n",
       "      <th>00 05</th>\n",
       "      <th>00 06</th>\n",
       "      <th>00 07</th>\n",
       "      <th>00 08</th>\n",
       "      <th>00 09</th>\n",
       "      <th>...</th>\n",
       "      <th>06 14</th>\n",
       "      <th>06 15</th>\n",
       "      <th>06 16</th>\n",
       "      <th>06 17</th>\n",
       "      <th>06 18</th>\n",
       "      <th>06 19</th>\n",
       "      <th>06 20</th>\n",
       "      <th>06 21</th>\n",
       "      <th>06 22</th>\n",
       "      <th>06 23</th>\n",
       "    </tr>\n",
       "    <tr>\n",
       "      <th>DIRECCION</th>\n",
       "      <th></th>\n",
       "      <th></th>\n",
       "      <th></th>\n",
       "      <th></th>\n",
       "      <th></th>\n",
       "      <th></th>\n",
       "      <th></th>\n",
       "      <th></th>\n",
       "      <th></th>\n",
       "      <th></th>\n",
       "      <th></th>\n",
       "      <th></th>\n",
       "      <th></th>\n",
       "      <th></th>\n",
       "      <th></th>\n",
       "      <th></th>\n",
       "      <th></th>\n",
       "      <th></th>\n",
       "      <th></th>\n",
       "      <th></th>\n",
       "      <th></th>\n",
       "    </tr>\n",
       "  </thead>\n",
       "  <tbody>\n",
       "    <tr>\n",
       "      <th>AC 13-KR 72 02</th>\n",
       "      <td>0</td>\n",
       "      <td>0</td>\n",
       "      <td>0</td>\n",
       "      <td>0</td>\n",
       "      <td>0</td>\n",
       "      <td>0</td>\n",
       "      <td>0</td>\n",
       "      <td>0</td>\n",
       "      <td>2</td>\n",
       "      <td>0</td>\n",
       "      <td>...</td>\n",
       "      <td>0</td>\n",
       "      <td>1</td>\n",
       "      <td>1</td>\n",
       "      <td>0</td>\n",
       "      <td>0</td>\n",
       "      <td>0</td>\n",
       "      <td>2</td>\n",
       "      <td>1</td>\n",
       "      <td>0</td>\n",
       "      <td>0</td>\n",
       "    </tr>\n",
       "    <tr>\n",
       "      <th>AC 26-KR 113 02</th>\n",
       "      <td>0</td>\n",
       "      <td>1</td>\n",
       "      <td>0</td>\n",
       "      <td>0</td>\n",
       "      <td>2</td>\n",
       "      <td>1</td>\n",
       "      <td>1</td>\n",
       "      <td>2</td>\n",
       "      <td>0</td>\n",
       "      <td>2</td>\n",
       "      <td>...</td>\n",
       "      <td>0</td>\n",
       "      <td>1</td>\n",
       "      <td>1</td>\n",
       "      <td>0</td>\n",
       "      <td>0</td>\n",
       "      <td>0</td>\n",
       "      <td>0</td>\n",
       "      <td>0</td>\n",
       "      <td>1</td>\n",
       "      <td>0</td>\n",
       "    </tr>\n",
       "    <tr>\n",
       "      <th>AC 26-KR 72 02</th>\n",
       "      <td>0</td>\n",
       "      <td>0</td>\n",
       "      <td>0</td>\n",
       "      <td>0</td>\n",
       "      <td>0</td>\n",
       "      <td>0</td>\n",
       "      <td>0</td>\n",
       "      <td>0</td>\n",
       "      <td>1</td>\n",
       "      <td>0</td>\n",
       "      <td>...</td>\n",
       "      <td>1</td>\n",
       "      <td>2</td>\n",
       "      <td>0</td>\n",
       "      <td>0</td>\n",
       "      <td>1</td>\n",
       "      <td>1</td>\n",
       "      <td>1</td>\n",
       "      <td>1</td>\n",
       "      <td>0</td>\n",
       "      <td>0</td>\n",
       "    </tr>\n",
       "    <tr>\n",
       "      <th>AC 26-KR 86 02</th>\n",
       "      <td>0</td>\n",
       "      <td>0</td>\n",
       "      <td>0</td>\n",
       "      <td>0</td>\n",
       "      <td>0</td>\n",
       "      <td>0</td>\n",
       "      <td>1</td>\n",
       "      <td>0</td>\n",
       "      <td>0</td>\n",
       "      <td>0</td>\n",
       "      <td>...</td>\n",
       "      <td>0</td>\n",
       "      <td>0</td>\n",
       "      <td>0</td>\n",
       "      <td>3</td>\n",
       "      <td>0</td>\n",
       "      <td>0</td>\n",
       "      <td>0</td>\n",
       "      <td>0</td>\n",
       "      <td>0</td>\n",
       "      <td>1</td>\n",
       "    </tr>\n",
       "    <tr>\n",
       "      <th>AC 80-KR 72 02</th>\n",
       "      <td>0</td>\n",
       "      <td>0</td>\n",
       "      <td>0</td>\n",
       "      <td>0</td>\n",
       "      <td>0</td>\n",
       "      <td>0</td>\n",
       "      <td>0</td>\n",
       "      <td>0</td>\n",
       "      <td>0</td>\n",
       "      <td>0</td>\n",
       "      <td>...</td>\n",
       "      <td>0</td>\n",
       "      <td>0</td>\n",
       "      <td>0</td>\n",
       "      <td>0</td>\n",
       "      <td>0</td>\n",
       "      <td>1</td>\n",
       "      <td>0</td>\n",
       "      <td>0</td>\n",
       "      <td>0</td>\n",
       "      <td>0</td>\n",
       "    </tr>\n",
       "    <tr>\n",
       "      <th>...</th>\n",
       "      <td>...</td>\n",
       "      <td>...</td>\n",
       "      <td>...</td>\n",
       "      <td>...</td>\n",
       "      <td>...</td>\n",
       "      <td>...</td>\n",
       "      <td>...</td>\n",
       "      <td>...</td>\n",
       "      <td>...</td>\n",
       "      <td>...</td>\n",
       "      <td>...</td>\n",
       "      <td>...</td>\n",
       "      <td>...</td>\n",
       "      <td>...</td>\n",
       "      <td>...</td>\n",
       "      <td>...</td>\n",
       "      <td>...</td>\n",
       "      <td>...</td>\n",
       "      <td>...</td>\n",
       "      <td>...</td>\n",
       "      <td>...</td>\n",
       "    </tr>\n",
       "    <tr>\n",
       "      <th>KR 80-CL 2 S 51</th>\n",
       "      <td>0</td>\n",
       "      <td>0</td>\n",
       "      <td>1</td>\n",
       "      <td>3</td>\n",
       "      <td>2</td>\n",
       "      <td>0</td>\n",
       "      <td>0</td>\n",
       "      <td>0</td>\n",
       "      <td>1</td>\n",
       "      <td>0</td>\n",
       "      <td>...</td>\n",
       "      <td>0</td>\n",
       "      <td>0</td>\n",
       "      <td>0</td>\n",
       "      <td>0</td>\n",
       "      <td>0</td>\n",
       "      <td>0</td>\n",
       "      <td>0</td>\n",
       "      <td>0</td>\n",
       "      <td>0</td>\n",
       "      <td>0</td>\n",
       "    </tr>\n",
       "    <tr>\n",
       "      <th>KR 80-CL 55 S 02</th>\n",
       "      <td>0</td>\n",
       "      <td>0</td>\n",
       "      <td>0</td>\n",
       "      <td>0</td>\n",
       "      <td>0</td>\n",
       "      <td>0</td>\n",
       "      <td>0</td>\n",
       "      <td>1</td>\n",
       "      <td>0</td>\n",
       "      <td>0</td>\n",
       "      <td>...</td>\n",
       "      <td>0</td>\n",
       "      <td>2</td>\n",
       "      <td>0</td>\n",
       "      <td>1</td>\n",
       "      <td>2</td>\n",
       "      <td>1</td>\n",
       "      <td>0</td>\n",
       "      <td>0</td>\n",
       "      <td>0</td>\n",
       "      <td>0</td>\n",
       "    </tr>\n",
       "    <tr>\n",
       "      <th>KR 80-CL 59 S 02</th>\n",
       "      <td>0</td>\n",
       "      <td>0</td>\n",
       "      <td>0</td>\n",
       "      <td>0</td>\n",
       "      <td>1</td>\n",
       "      <td>0</td>\n",
       "      <td>0</td>\n",
       "      <td>0</td>\n",
       "      <td>0</td>\n",
       "      <td>0</td>\n",
       "      <td>...</td>\n",
       "      <td>0</td>\n",
       "      <td>0</td>\n",
       "      <td>1</td>\n",
       "      <td>2</td>\n",
       "      <td>0</td>\n",
       "      <td>0</td>\n",
       "      <td>0</td>\n",
       "      <td>0</td>\n",
       "      <td>0</td>\n",
       "      <td>0</td>\n",
       "    </tr>\n",
       "    <tr>\n",
       "      <th>KR 86-CL 6 02</th>\n",
       "      <td>0</td>\n",
       "      <td>0</td>\n",
       "      <td>0</td>\n",
       "      <td>0</td>\n",
       "      <td>0</td>\n",
       "      <td>1</td>\n",
       "      <td>2</td>\n",
       "      <td>0</td>\n",
       "      <td>0</td>\n",
       "      <td>0</td>\n",
       "      <td>...</td>\n",
       "      <td>0</td>\n",
       "      <td>0</td>\n",
       "      <td>3</td>\n",
       "      <td>0</td>\n",
       "      <td>0</td>\n",
       "      <td>0</td>\n",
       "      <td>0</td>\n",
       "      <td>1</td>\n",
       "      <td>0</td>\n",
       "      <td>0</td>\n",
       "    </tr>\n",
       "    <tr>\n",
       "      <th>TR 53-CL 2 02</th>\n",
       "      <td>0</td>\n",
       "      <td>0</td>\n",
       "      <td>0</td>\n",
       "      <td>0</td>\n",
       "      <td>0</td>\n",
       "      <td>0</td>\n",
       "      <td>0</td>\n",
       "      <td>0</td>\n",
       "      <td>1</td>\n",
       "      <td>0</td>\n",
       "      <td>...</td>\n",
       "      <td>0</td>\n",
       "      <td>0</td>\n",
       "      <td>0</td>\n",
       "      <td>2</td>\n",
       "      <td>0</td>\n",
       "      <td>1</td>\n",
       "      <td>0</td>\n",
       "      <td>0</td>\n",
       "      <td>0</td>\n",
       "      <td>0</td>\n",
       "    </tr>\n",
       "  </tbody>\n",
       "</table>\n",
       "<p>306 rows × 168 columns</p>\n",
       "</div>"
      ],
      "text/plain": [
       "vocab             00 00  00 01  00 02  00 03  00 04  00 05  00 06  00 07  \\\n",
       "DIRECCION                                                                  \n",
       "AC 13-KR 72 02        0      0      0      0      0      0      0      0   \n",
       "AC 26-KR 113 02       0      1      0      0      2      1      1      2   \n",
       "AC 26-KR 72 02        0      0      0      0      0      0      0      0   \n",
       "AC 26-KR 86 02        0      0      0      0      0      0      1      0   \n",
       "AC 80-KR 72 02        0      0      0      0      0      0      0      0   \n",
       "...                 ...    ...    ...    ...    ...    ...    ...    ...   \n",
       "KR 80-CL 2 S 51       0      0      1      3      2      0      0      0   \n",
       "KR 80-CL 55 S 02      0      0      0      0      0      0      0      1   \n",
       "KR 80-CL 59 S 02      0      0      0      0      1      0      0      0   \n",
       "KR 86-CL 6 02         0      0      0      0      0      1      2      0   \n",
       "TR 53-CL 2 02         0      0      0      0      0      0      0      0   \n",
       "\n",
       "vocab             00 08  00 09  ...  06 14  06 15  06 16  06 17  06 18  06 19  \\\n",
       "DIRECCION                       ...                                             \n",
       "AC 13-KR 72 02        2      0  ...      0      1      1      0      0      0   \n",
       "AC 26-KR 113 02       0      2  ...      0      1      1      0      0      0   \n",
       "AC 26-KR 72 02        1      0  ...      1      2      0      0      1      1   \n",
       "AC 26-KR 86 02        0      0  ...      0      0      0      3      0      0   \n",
       "AC 80-KR 72 02        0      0  ...      0      0      0      0      0      1   \n",
       "...                 ...    ...  ...    ...    ...    ...    ...    ...    ...   \n",
       "KR 80-CL 2 S 51       1      0  ...      0      0      0      0      0      0   \n",
       "KR 80-CL 55 S 02      0      0  ...      0      2      0      1      2      1   \n",
       "KR 80-CL 59 S 02      0      0  ...      0      0      1      2      0      0   \n",
       "KR 86-CL 6 02         0      0  ...      0      0      3      0      0      0   \n",
       "TR 53-CL 2 02         1      0  ...      0      0      0      2      0      1   \n",
       "\n",
       "vocab             06 20  06 21  06 22  06 23  \n",
       "DIRECCION                                     \n",
       "AC 13-KR 72 02        2      1      0      0  \n",
       "AC 26-KR 113 02       0      0      1      0  \n",
       "AC 26-KR 72 02        1      1      0      0  \n",
       "AC 26-KR 86 02        0      0      0      1  \n",
       "AC 80-KR 72 02        0      0      0      0  \n",
       "...                 ...    ...    ...    ...  \n",
       "KR 80-CL 2 S 51       0      0      0      0  \n",
       "KR 80-CL 55 S 02      0      0      0      0  \n",
       "KR 80-CL 59 S 02      0      0      0      0  \n",
       "KR 86-CL 6 02         0      1      0      0  \n",
       "TR 53-CL 2 02         0      0      0      0  \n",
       "\n",
       "[306 rows x 168 columns]"
      ]
     },
     "execution_count": 65,
     "metadata": {},
     "output_type": "execute_result"
    }
   ],
   "source": [
    "model = LatentCalendar(n_components=3, n_jobs=-1)\n",
    "model.fit(df_location)\n",
    "\n",
    "plot_model_components(model)\n",
    "\n",
    "df_location.loc[df_location.sum(axis=1) > 40]"
   ]
  },
  {
   "cell_type": "code",
   "execution_count": 29,
   "id": "1afb3ce4",
   "metadata": {},
   "outputs": [],
   "source": [
    "from latent_calendar import LatentCalendar \n",
    "from latent_calendar.plot import plot_model_components"
   ]
  },
  {
   "cell_type": "code",
   "execution_count": 32,
   "id": "3b4e6bd2",
   "metadata": {},
   "outputs": [
    {
     "name": "stderr",
     "output_type": "stream",
     "text": [
      "/opt/homebrew/anaconda3/lib/python3.10/site-packages/sklearn/utils/validation.py:767: FutureWarning: is_sparse is deprecated and will be removed in a future version. Check `isinstance(dtype, pd.SparseDtype)` instead.\n",
      "  if not hasattr(array, \"sparse\") and array.dtypes.apply(is_sparse).any():\n",
      "/opt/homebrew/anaconda3/lib/python3.10/site-packages/sklearn/utils/validation.py:605: FutureWarning: is_sparse is deprecated and will be removed in a future version. Check `isinstance(dtype, pd.SparseDtype)` instead.\n",
      "  if is_sparse(pd_dtype):\n",
      "/opt/homebrew/anaconda3/lib/python3.10/site-packages/sklearn/utils/validation.py:614: FutureWarning: is_sparse is deprecated and will be removed in a future version. Check `isinstance(dtype, pd.SparseDtype)` instead.\n",
      "  if is_sparse(pd_dtype) or not is_extension_array_dtype(pd_dtype):\n"
     ]
    },
    {
     "data": {
      "image/png": "[encoded data removed]",
      "text/plain": [
       "<Figure size 640x480 with 3 Axes>"
      ]
     },
     "metadata": {},
     "output_type": "display_data"
    }
   ],
   "source": [
    "model = LatentCalendar(n_components=3, n_jobs=-1)\n",
    "model.fit(df_location)\n",
    "\n",
    "plot_model_components(model)"
   ]
  },
  {
   "cell_type": "code",
   "execution_count": 19,
   "id": "2fc4ef76",
   "metadata": {},
   "outputs": [
    {
     "data": {
      "text/plain": [
       "0        2015-01-01 01:05:00\n",
       "1        2015-01-01 05:50:00\n",
       "2        2015-01-01 07:15:00\n",
       "3        2015-01-01 09:30:00\n",
       "4        2015-01-01 09:30:00\n",
       "                 ...        \n",
       "233814   2020-12-31 21:30:00\n",
       "233815   2020-12-31 21:34:00\n",
       "233816   2020-12-31 21:34:00\n",
       "233817   2020-12-31 21:40:00\n",
       "233818   2020-12-31 22:34:00\n",
       "Name: datetime, Length: 233819, dtype: datetime64[ns]"
      ]
     },
     "execution_count": 19,
     "metadata": {},
     "output_type": "execute_result"
    }
   ],
   "source": [
    "merged_inner[\"datetime\"]"
   ]
  },
  {
   "cell_type": "code",
   "execution_count": 7,
   "id": "8b023d6f",
   "metadata": {},
   "outputs": [
    {
     "data": {
      "text/html": [
       "<div>\n",
       "<style scoped>\n",
       "    .dataframe tbody tr th:only-of-type {\n",
       "        vertical-align: middle;\n",
       "    }\n",
       "\n",
       "    .dataframe tbody tr th {\n",
       "        vertical-align: top;\n",
       "    }\n",
       "\n",
       "    .dataframe thead th {\n",
       "        text-align: right;\n",
       "    }\n",
       "</style>\n",
       "<table border=\"1\" class=\"dataframe\">\n",
       "  <thead>\n",
       "    <tr style=\"text-align: right;\">\n",
       "      <th></th>\n",
       "      <th>CODIGO_ACCIDENTE</th>\n",
       "      <th>FECHA</th>\n",
       "      <th>HORA</th>\n",
       "      <th>GRAVEDAD</th>\n",
       "      <th>CLASE</th>\n",
       "      <th>CHOQUE</th>\n",
       "      <th>OBJETO_FIJO</th>\n",
       "      <th>DIRECCION</th>\n",
       "      <th>CODIGO_LOCALIDAD</th>\n",
       "      <th>DISENO_LUGAR</th>\n",
       "      <th>CODIGO_CAUSA</th>\n",
       "    </tr>\n",
       "  </thead>\n",
       "  <tbody>\n",
       "    <tr>\n",
       "      <th>157</th>\n",
       "      <td>4401444</td>\n",
       "      <td>04/01/2015</td>\n",
       "      <td>16:00:00</td>\n",
       "      <td>2</td>\n",
       "      <td>1</td>\n",
       "      <td>1.0</td>\n",
       "      <td>NaN</td>\n",
       "      <td>KR 45A-CL 131 02</td>\n",
       "      <td>11</td>\n",
       "      <td>2</td>\n",
       "      <td>112</td>\n",
       "    </tr>\n",
       "    <tr>\n",
       "      <th>158</th>\n",
       "      <td>4401444</td>\n",
       "      <td>04/01/2015</td>\n",
       "      <td>16:00:00</td>\n",
       "      <td>2</td>\n",
       "      <td>1</td>\n",
       "      <td>1.0</td>\n",
       "      <td>NaN</td>\n",
       "      <td>KR 45A-CL 131 02</td>\n",
       "      <td>11</td>\n",
       "      <td>2</td>\n",
       "      <td>157</td>\n",
       "    </tr>\n",
       "  </tbody>\n",
       "</table>\n",
       "</div>"
      ],
      "text/plain": [
       "     CODIGO_ACCIDENTE       FECHA      HORA  GRAVEDAD  CLASE  CHOQUE  \\\n",
       "157           4401444  04/01/2015  16:00:00         2      1     1.0   \n",
       "158           4401444  04/01/2015  16:00:00         2      1     1.0   \n",
       "\n",
       "     OBJETO_FIJO         DIRECCION  CODIGO_LOCALIDAD  DISENO_LUGAR  \\\n",
       "157          NaN  KR 45A-CL 131 02                11             2   \n",
       "158          NaN  KR 45A-CL 131 02                11             2   \n",
       "\n",
       "    CODIGO_CAUSA  \n",
       "157          112  \n",
       "158          157  "
      ]
     },
     "execution_count": 7,
     "metadata": {},
     "output_type": "execute_result"
    }
   ],
   "source": [
    "(merged_inner.query(\"CODIGO_ACCIDENTE == 4401444\"))"
   ]
  },
  {
   "cell_type": "code",
   "execution_count": 8,
   "id": "71abd30a",
   "metadata": {},
   "outputs": [
    {
     "data": {
      "text/html": [
       "<div>\n",
       "<style scoped>\n",
       "    .dataframe tbody tr th:only-of-type {\n",
       "        vertical-align: middle;\n",
       "    }\n",
       "\n",
       "    .dataframe tbody tr th {\n",
       "        vertical-align: top;\n",
       "    }\n",
       "\n",
       "    .dataframe thead th {\n",
       "        text-align: right;\n",
       "    }\n",
       "</style>\n",
       "<table border=\"1\" class=\"dataframe\">\n",
       "  <thead>\n",
       "    <tr style=\"text-align: right;\">\n",
       "      <th></th>\n",
       "      <th>CODIGO_ACCIDENTE</th>\n",
       "      <th>FECHA</th>\n",
       "      <th>CODIGO_CAUSA</th>\n",
       "    </tr>\n",
       "  </thead>\n",
       "  <tbody>\n",
       "    <tr>\n",
       "      <th>131</th>\n",
       "      <td>4401444</td>\n",
       "      <td>04/01/2015</td>\n",
       "      <td>112</td>\n",
       "    </tr>\n",
       "    <tr>\n",
       "      <th>132</th>\n",
       "      <td>4401444</td>\n",
       "      <td>04/01/2015</td>\n",
       "      <td>157</td>\n",
       "    </tr>\n",
       "  </tbody>\n",
       "</table>\n",
       "</div>"
      ],
      "text/plain": [
       "     CODIGO_ACCIDENTE       FECHA CODIGO_CAUSA\n",
       "131           4401444  04/01/2015          112\n",
       "132           4401444  04/01/2015          157"
      ]
     },
     "execution_count": 8,
     "metadata": {},
     "output_type": "execute_result"
    }
   ],
   "source": [
    "(hipothesis_df.query(\"CODIGO_ACCIDENTE == 4401444\"))"
   ]
  },
  {
   "cell_type": "markdown",
   "id": "de99e523",
   "metadata": {},
   "source": [
    "# Trying to match them together\n",
    "\n",
    "We can pre-process hipothesis to have lists of codigo causa instead of multiple row"
   ]
  },
  {
   "cell_type": "code",
   "execution_count": 102,
   "id": "4a45f35c",
   "metadata": {
    "scrolled": false
   },
   "outputs": [],
   "source": [
    "#https://stackoverflow.com/questions/46275765/pandas-merge-row-data-with-multiple-values-to-python-list-for-a-column\n",
    "#grouped_hipothesis_df = hipothesis_df.groupby(['CODIGO_ACCIDENTE','FECHA']).agg(lambda x: x.tolist())#.apply(lambda x: 12, axis = 1, result_type= \"expand\")\n",
    "#grouped_hipothesis_df\n",
    "def tiny(series, n=4):\n",
    "    l =  series.tolist()\n",
    "    while len(l) < n: # n magic number\n",
    "        l.append(-1)\n",
    "        \n",
    "    return l\n",
    "#hdf = hipothesis_df.query(\"CODIGO_ACCIDENTE == 10535475\").groupby(['CODIGO_ACCIDENTE','FECHA']).agg(tiny)#.apply(lambda x: x + 4, axis = 1, result_type= \"expand\")\n",
    "#hdf[['cc1','cc2','cc3','cc4','cc5','cc6','cc7']] = pd.DataFrame(hdf.CODIGO_CAUSA.tolist(), index= hdf.index)\n",
    "#hdf\n"
   ]
  },
  {
   "cell_type": "code",
   "execution_count": 103,
   "id": "a51daf40",
   "metadata": {},
   "outputs": [],
   "source": [
    "grouped_hipothesis_df = hipothesis_df.drop_duplicates().groupby(['CODIGO_ACCIDENTE','FECHA']).agg(tiny)"
   ]
  },
  {
   "cell_type": "code",
   "execution_count": 104,
   "id": "e39d71ef",
   "metadata": {},
   "outputs": [
    {
     "data": {
      "text/html": [
       "<div>\n",
       "<style scoped>\n",
       "    .dataframe tbody tr th:only-of-type {\n",
       "        vertical-align: middle;\n",
       "    }\n",
       "\n",
       "    .dataframe tbody tr th {\n",
       "        vertical-align: top;\n",
       "    }\n",
       "\n",
       "    .dataframe thead th {\n",
       "        text-align: right;\n",
       "    }\n",
       "</style>\n",
       "<table border=\"1\" class=\"dataframe\">\n",
       "  <thead>\n",
       "    <tr style=\"text-align: right;\">\n",
       "      <th></th>\n",
       "      <th></th>\n",
       "      <th>CODIGO_CAUSA</th>\n",
       "    </tr>\n",
       "    <tr>\n",
       "      <th>CODIGO_ACCIDENTE</th>\n",
       "      <th>FECHA</th>\n",
       "      <th></th>\n",
       "    </tr>\n",
       "  </thead>\n",
       "  <tbody>\n",
       "    <tr>\n",
       "      <th>4508250</th>\n",
       "      <th>11/02/2018</th>\n",
       "      <td>[116, 141, -1, -1]</td>\n",
       "    </tr>\n",
       "  </tbody>\n",
       "</table>\n",
       "</div>"
      ],
      "text/plain": [
       "                                   CODIGO_CAUSA\n",
       "CODIGO_ACCIDENTE FECHA                         \n",
       "4508250          11/02/2018  [116, 141, -1, -1]"
      ]
     },
     "execution_count": 104,
     "metadata": {},
     "output_type": "execute_result"
    }
   ],
   "source": [
    "grouped_hipothesis_df.query(\"CODIGO_ACCIDENTE == 4508250\")"
   ]
  },
  {
   "cell_type": "code",
   "execution_count": 97,
   "id": "c0b35816",
   "metadata": {},
   "outputs": [
    {
     "name": "stdout",
     "output_type": "stream",
     "text": [
      "[139, 302, 116, 121, 301]\n"
     ]
    }
   ],
   "source": [
    "for i in grouped_hipothesis_df.CODIGO_CAUSA.tolist():\n",
    "    if len(i) > 4: \n",
    "        print(i)"
   ]
  },
  {
   "cell_type": "code",
   "execution_count": null,
   "id": "c650bfc1",
   "metadata": {},
   "outputs": [],
   "source": []
  },
  {
   "cell_type": "code",
   "execution_count": 98,
   "id": "0b43ea75",
   "metadata": {},
   "outputs": [],
   "source": [
    "grouped_hipothesis_df[['CC1','CC2','CC3','CC4','CC5']] = pd.DataFrame(grouped_hipothesis_df.CODIGO_CAUSA.tolist(), index= grouped_hipothesis_df.index)\n"
   ]
  },
  {
   "cell_type": "code",
   "execution_count": 101,
   "id": "20dde37e",
   "metadata": {},
   "outputs": [
    {
     "data": {
      "text/html": [
       "<div>\n",
       "<style scoped>\n",
       "    .dataframe tbody tr th:only-of-type {\n",
       "        vertical-align: middle;\n",
       "    }\n",
       "\n",
       "    .dataframe tbody tr th {\n",
       "        vertical-align: top;\n",
       "    }\n",
       "\n",
       "    .dataframe thead th {\n",
       "        text-align: right;\n",
       "    }\n",
       "</style>\n",
       "<table border=\"1\" class=\"dataframe\">\n",
       "  <thead>\n",
       "    <tr style=\"text-align: right;\">\n",
       "      <th></th>\n",
       "      <th></th>\n",
       "      <th>CODIGO_CAUSA</th>\n",
       "      <th>CC1</th>\n",
       "      <th>CC2</th>\n",
       "      <th>CC3</th>\n",
       "      <th>CC4</th>\n",
       "      <th>CC5</th>\n",
       "    </tr>\n",
       "    <tr>\n",
       "      <th>CODIGO_ACCIDENTE</th>\n",
       "      <th>FECHA</th>\n",
       "      <th></th>\n",
       "      <th></th>\n",
       "      <th></th>\n",
       "      <th></th>\n",
       "      <th></th>\n",
       "      <th></th>\n",
       "    </tr>\n",
       "  </thead>\n",
       "  <tbody>\n",
       "    <tr>\n",
       "      <th>4491301</th>\n",
       "      <th>22/08/2017</th>\n",
       "      <td>[139, 302, 116, 121, 301]</td>\n",
       "      <td>139</td>\n",
       "      <td>302</td>\n",
       "      <td>116</td>\n",
       "      <td>121</td>\n",
       "      <td>301.0</td>\n",
       "    </tr>\n",
       "  </tbody>\n",
       "</table>\n",
       "</div>"
      ],
      "text/plain": [
       "                                          CODIGO_CAUSA  CC1  CC2  CC3  CC4  \\\n",
       "CODIGO_ACCIDENTE FECHA                                                       \n",
       "4491301          22/08/2017  [139, 302, 116, 121, 301]  139  302  116  121   \n",
       "\n",
       "                               CC5  \n",
       "CODIGO_ACCIDENTE FECHA              \n",
       "4491301          22/08/2017  301.0  "
      ]
     },
     "execution_count": 101,
     "metadata": {},
     "output_type": "execute_result"
    }
   ],
   "source": [
    "grouped_hipothesis_df.query(\"CC5 > 0\")"
   ]
  },
  {
   "cell_type": "code",
   "execution_count": null,
   "id": "9f54cea2",
   "metadata": {},
   "outputs": [],
   "source": []
  },
  {
   "cell_type": "code",
   "execution_count": 66,
   "id": "613c9b4d",
   "metadata": {},
   "outputs": [],
   "source": [
    "merged_inner = pd.merge(left=siniestros_df, right=grouped_hipothesis_df, left_on=common_keys, right_on=common_keys)"
   ]
  },
  {
   "cell_type": "code",
   "execution_count": null,
   "id": "d4947bf4",
   "metadata": {},
   "outputs": [],
   "source": []
  },
  {
   "cell_type": "code",
   "execution_count": 2,
   "id": "1337f113",
   "metadata": {},
   "outputs": [
    {
     "ename": "NameError",
     "evalue": "name 'merged_inner' is not defined",
     "output_type": "error",
     "traceback": [
      "\u001b[0;31m---------------------------------------------------------------------------\u001b[0m",
      "\u001b[0;31mNameError\u001b[0m                                 Traceback (most recent call last)",
      "Cell \u001b[0;32mIn[2], line 1\u001b[0m\n\u001b[0;32m----> 1\u001b[0m \u001b[43mmerged_inner\u001b[49m\n",
      "\u001b[0;31mNameError\u001b[0m: name 'merged_inner' is not defined"
     ]
    }
   ],
   "source": [
    "merged_inner"
   ]
  },
  {
   "cell_type": "code",
   "execution_count": null,
   "id": "7ca9481e",
   "metadata": {},
   "outputs": [],
   "source": [
    "grouped_hipothesis_df = hipothesis_df.groupby(['CODIGO_ACCIDENTE','FECHA']).agg(lambda x: x.tolist())\n"
   ]
  },
  {
   "cell_type": "markdown",
   "id": "0bccfde1",
   "metadata": {},
   "source": [
    "# Using Google Maps"
   ]
  },
  {
   "cell_type": "code",
   "execution_count": null,
   "id": "f5e6080a",
   "metadata": {},
   "outputs": [],
   "source": [
    "latent_calendar"
   ]
  },
  {
   "cell_type": "code",
   "execution_count": null,
   "id": "8e27e239",
   "metadata": {},
   "outputs": [],
   "source": []
  }
 ],
 "metadata": {
  "kernelspec": {
   "display_name": "Python 3 (ipykernel)",
   "language": "python",
   "name": "python3"
  },
  "language_info": {
   "codemirror_mode": {
    "name": "ipython",
    "version": 3
   },
   "file_extension": ".py",
   "mimetype": "text/x-python",
   "name": "python",
   "nbconvert_exporter": "python",
   "pygments_lexer": "ipython3",
   "version": "3.10.9"
  }
 },
 "nbformat": 4,
 "nbformat_minor": 5
}
