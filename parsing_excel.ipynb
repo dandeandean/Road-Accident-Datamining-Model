{
 "cells": [
  {
   "cell_type": "code",
   "execution_count": 1,
   "id": "bdfb3768",
   "metadata": {},
   "outputs": [],
   "source": [
    "#import latent_calendar\n",
    "import pandas as pd"
   ]
  },
  {
   "cell_type": "code",
   "execution_count": 2,
   "id": "6195605a",
   "metadata": {},
   "outputs": [],
   "source": [
    "#base_df = pd.read_excel(\"base-data.xlsx\")\n",
    "file_name = \"base-data.xlsx\"\n",
    "#exploring_actor_vial_df = pd.read_excel(io=file_name, sheet_name='ACTOR_VIAL')\n",
    "#exploring_vehiculos_df = pd.read_excel(io=file_name, sheet_name='VEHICULOS')\n",
    "\n",
    "siniestros_df = pd.read_excel(io=file_name, sheet_name='SINIESTROS')\n",
    "hipothesis_df = pd.read_excel(io=file_name, sheet_name='HIPOTESIS')"
   ]
  },
  {
   "cell_type": "markdown",
   "id": "4ba98816",
   "metadata": {},
   "source": [
    "# Combining Dataframes\n",
    "see: https://datacarpentry.org/python-ecology-lesson/05-merging-data.html\n",
    "\n",
    "It appears (from looking at the data in excel) that diniestros and hipothesis are the only two datapoints that are 1-1, whereas the others are metadata about each car crash."
   ]
  },
  {
   "cell_type": "code",
   "execution_count": null,
   "id": "d8a378e1",
   "metadata": {},
   "outputs": [],
   "source": [
    "siniestros_df[\"CODIGO_ACCIDENTE\"].nunique()"
   ]
  },
  {
   "cell_type": "code",
   "execution_count": null,
   "id": "76a78858",
   "metadata": {},
   "outputs": [],
   "source": [
    "hipothesis_df[\"CODIGO_ACCIDENTE\"].nunique()"
   ]
  },
  {
   "cell_type": "code",
   "execution_count": null,
   "id": "062a3df9",
   "metadata": {},
   "outputs": [],
   "source": [
    "common_keys = ['CODIGO_ACCIDENTE','FECHA']"
   ]
  },
  {
   "cell_type": "code",
   "execution_count": null,
   "id": "bd0b4efc",
   "metadata": {},
   "outputs": [],
   "source": [
    "merged_inner = pd.merge(left=siniestros_df, right=hipothesis_df, left_on=common_keys, right_on=common_keys)"
   ]
  },
  {
   "cell_type": "code",
   "execution_count": null,
   "id": "c5ae87b4",
   "metadata": {},
   "outputs": [],
   "source": [
    "merged_inner[\"datetime\"] = pd.to_datetime(merged_inner[\"FECHA\"].str.cat(merged_inner[\"HORA\"], sep=\" \"), format=\"mixed\")"
   ]
  },
  {
   "cell_type": "code",
   "execution_count": null,
   "id": "61948dfb",
   "metadata": {},
   "outputs": [],
   "source": [
    "(\n",
    "    merged_inner\n",
    "    .groupby([pd.Grouper(key=\"datetime\", freq=\"M\"), \"GRAVEDAD\"])\n",
    "    .size()\n",
    "    .unstack()\n",
    "    .iloc[-52 * 2:]\n",
    "    .assign(ratio=lambda df: df[1] / (df[1]+ df[2] + df[3]))\n",
    "    .loc[:, 1]\n",
    "    .plot()\n",
    ")"
   ]
  },
  {
   "cell_type": "code",
   "execution_count": null,
   "id": "a5ffc29f",
   "metadata": {},
   "outputs": [],
   "source": []
  },
  {
   "cell_type": "code",
   "execution_count": null,
   "id": "16b1b0ec",
   "metadata": {},
   "outputs": [],
   "source": []
  },
  {
   "cell_type": "code",
   "execution_count": null,
   "id": "c43cdb5a",
   "metadata": {},
   "outputs": [],
   "source": [
    "merged_inner[\"DIRECCION\"].value_counts()"
   ]
  },
  {
   "cell_type": "code",
   "execution_count": null,
   "id": "5d6fea6f",
   "metadata": {},
   "outputs": [],
   "source": [
    "df_location.sum(axis=1).pipe(lambda ser: ser / ser.sum())"
   ]
  },
  {
   "cell_type": "code",
   "execution_count": null,
   "id": "ff3c20ec",
   "metadata": {},
   "outputs": [],
   "source": [
    "df_location = merged_inner.cal.aggregate_events(\"DIRECCION\", \"datetime\")\n",
    "\n",
    "# df_location.cal.normalize(\"max\").cal.sum_over_vocab(\"hour\").T.plot()"
   ]
  },
  {
   "cell_type": "code",
   "execution_count": null,
   "id": "d72f3381",
   "metadata": {},
   "outputs": [],
   "source": [
    "model = LatentCalendar(n_components=10, n_jobs=-1)\n",
    "\n",
    "df_model = df_location.loc[df_location.sum(axis=1) > 25]\n",
    "model.fit(df_model)\n",
    "\n",
    "plot_model_components(model)"
   ]
  },
  {
   "cell_type": "code",
   "execution_count": null,
   "id": "8ffbabeb",
   "metadata": {},
   "outputs": [],
   "source": [
    "from latent_calendar import LatentCalendar \n",
    "from latent_calendar.plot import plot_model_components"
   ]
  },
  {
   "cell_type": "code",
   "execution_count": null,
   "id": "8b023d6f",
   "metadata": {},
   "outputs": [],
   "source": [
    "(merged_inner.query(\"CODIGO_ACCIDENTE == 4401444\"))"
   ]
  },
  {
   "cell_type": "code",
   "execution_count": null,
   "id": "71abd30a",
   "metadata": {},
   "outputs": [],
   "source": [
    "(hipothesis_df.query(\"CODIGO_ACCIDENTE == 4401444\"))"
   ]
  },
  {
   "cell_type": "markdown",
   "id": "de99e523",
   "metadata": {},
   "source": [
    "# Trying to match them together\n",
    "\n",
    "We can pre-process hipothesis to have lists of codigo causa instead of multiple row"
   ]
  },
  {
   "cell_type": "code",
   "execution_count": null,
   "id": "234f7baf",
   "metadata": {},
   "outputs": [],
   "source": [
    "hipothesis_df.head(10).groupby(\"FECHA\").agg(lambda x: x.tolist())"
   ]
  },
  {
   "cell_type": "code",
   "execution_count": null,
   "id": "4a45f35c",
   "metadata": {
    "scrolled": false
   },
   "outputs": [],
   "source": [
    "#https://stackoverflow.com/questions/46275765/pandas-merge-row-data-with-multiple-values-to-python-list-for-a-column\n",
    "#grouped_hipothesis_df = hipothesis_df.groupby(['CODIGO_ACCIDENTE','FECHA']).agg(lambda x: x.tolist())#.apply(lambda x: 12, axis = 1, result_type= \"expand\")\n",
    "#grouped_hipothesis_df\n",
    "def tiny(series, n=4):\n",
    "    l =  series.tolist()\n",
    "    while len(l) < n: # n magic number\n",
    "        l.append(-1)\n",
    "        \n",
    "    return l\n",
    "#hdf = hipothesis_df.query(\"CODIGO_ACCIDENTE == 10535475\").groupby(['CODIGO_ACCIDENTE','FECHA']).agg(tiny)#.apply(lambda x: x + 4, axis = 1, result_type= \"expand\")\n",
    "#hdf[['cc1','cc2','cc3','cc4','cc5','cc6','cc7']] = pd.DataFrame(hdf.CODIGO_CAUSA.tolist(), index= hdf.index)\n",
    "#hdf\n"
   ]
  },
  {
   "cell_type": "code",
   "execution_count": null,
   "id": "ec56fead",
   "metadata": {},
   "outputs": [],
   "source": [
    "hipothesis_df.groupby(\"CODIGO_ACCIDENTE\").size().sort_values().value_counts(normalize=True)"
   ]
  },
  {
   "cell_type": "code",
   "execution_count": null,
   "id": "a51daf40",
   "metadata": {},
   "outputs": [],
   "source": [
    "grouped_hipothesis_df = hipothesis_df.drop_duplicates().groupby(['CODIGO_ACCIDENTE','FECHA']).agg(tiny)"
   ]
  },
  {
   "cell_type": "code",
   "execution_count": null,
   "id": "e39d71ef",
   "metadata": {},
   "outputs": [],
   "source": [
    "grouped_hipothesis_df.query(\"CODIGO_ACCIDENTE == 4508250\")"
   ]
  },
  {
   "cell_type": "code",
   "execution_count": null,
   "id": "c0b35816",
   "metadata": {},
   "outputs": [],
   "source": [
    "for i in grouped_hipothesis_df.CODIGO_CAUSA.tolist():\n",
    "    if len(i) > 4: \n",
    "        print(i)"
   ]
  },
  {
   "cell_type": "code",
   "execution_count": null,
   "id": "c650bfc1",
   "metadata": {},
   "outputs": [],
   "source": []
  },
  {
   "cell_type": "code",
   "execution_count": null,
   "id": "0b43ea75",
   "metadata": {},
   "outputs": [],
   "source": [
    "grouped_hipothesis_df[['CC1','CC2','CC3','CC4','CC5']] = pd.DataFrame(grouped_hipothesis_df.CODIGO_CAUSA.tolist(), index= grouped_hipothesis_df.index)\n"
   ]
  },
  {
   "cell_type": "code",
   "execution_count": null,
   "id": "20dde37e",
   "metadata": {},
   "outputs": [],
   "source": [
    "grouped_hipothesis_df.query(\"CC5 > 0\")"
   ]
  },
  {
   "cell_type": "code",
   "execution_count": null,
   "id": "9f54cea2",
   "metadata": {},
   "outputs": [],
   "source": []
  },
  {
   "cell_type": "code",
   "execution_count": null,
   "id": "613c9b4d",
   "metadata": {},
   "outputs": [],
   "source": [
    "merged_inner = pd.merge(left=siniestros_df, right=grouped_hipothesis_df, left_on=common_keys, right_on=common_keys)"
   ]
  },
  {
   "cell_type": "code",
   "execution_count": null,
   "id": "d4947bf4",
   "metadata": {},
   "outputs": [],
   "source": []
  },
  {
   "cell_type": "code",
   "execution_count": null,
   "id": "1337f113",
   "metadata": {},
   "outputs": [],
   "source": [
    "merged_inner"
   ]
  },
  {
   "cell_type": "code",
   "execution_count": null,
   "id": "7ca9481e",
   "metadata": {},
   "outputs": [],
   "source": [
    "grouped_hipothesis_df = hipothesis_df.groupby(['CODIGO_ACCIDENTE','FECHA']).agg(lambda x: x.tolist())\n"
   ]
  },
  {
   "cell_type": "markdown",
   "id": "0bccfde1",
   "metadata": {},
   "source": [
    "# Using Google Maps"
   ]
  },
  {
   "cell_type": "code",
   "execution_count": null,
   "id": "f5e6080a",
   "metadata": {},
   "outputs": [],
   "source": [
    "#WIP HillmerCh\n",
    "#! pip install geopandas\n",
    "! pip install geodatasets"
   ]
  },
  {
   "cell_type": "code",
   "execution_count": null,
   "id": "8e27e239",
   "metadata": {},
   "outputs": [],
   "source": [
    "import pandas as pd\n",
    "import geopandas\n",
    "import matplotlib.pyplot as plt\n",
    "from geodatasets import get_path"
   ]
  },
  {
   "cell_type": "code",
   "execution_count": null,
   "metadata": {},
   "outputs": [],
   "source": [
    "df = pd.DataFrame(\n",
    "    {\n",
    "        \"City\": [\"Bogota\"],\n",
    "        \"Country\": [\"Colombia\"],\n",
    "        \"Latitude\": [4.624335],\n",
    "        \"Longitude\": [-74.063644],\n",
    "    }\n",
    ")\n",
    "gdf = geopandas.GeoDataFrame(\n",
    "    df, geometry=geopandas.points_from_xy(df.Longitude, df.Latitude), crs=\"EPSG:4326\"\n",
    ")"
   ]
  },
  {
   "cell_type": "code",
   "execution_count": null,
   "metadata": {},
   "outputs": [],
   "source": [
    "print(gdf.head())"
   ]
  },
  {
   "cell_type": "code",
   "execution_count": null,
   "metadata": {},
   "outputs": [],
   "source": [
    "geopandas.datasets.available"
   ]
  },
  {
   "cell_type": "code",
   "execution_count": 3,
   "metadata": {},
   "outputs": [
    {
     "name": "stderr",
     "output_type": "stream",
     "text": [
      "/tmp/ipykernel_9034/1083294856.py:8: FutureWarning: The geopandas.dataset module is deprecated and will be removed in GeoPandas 1.0. You can get the original 'naturalearth_cities' data from https://www.naturalearthdata.com/downloads/110m-cultural-vectors/.\n",
      "  cities = geopandas.read_file(geopandas.datasets.get_path('naturalearth_cities'))\n"
     ]
    },
    {
     "data": {
      "text/plain": [
       "<Axes: >"
      ]
     },
     "execution_count": 3,
     "metadata": {},
     "output_type": "execute_result"
    },
    {
     "data": {
      "image/png": "[encoded data removed]",
      "text/plain": [
       "<Figure size 640x480 with 1 Axes>"
      ]
     },
     "metadata": {},
     "output_type": "display_data"
    }
   ],
   "source": [
    "#world = geopandas.read_file(get_path(\"naturalearth.land\"))\n",
    "#world\n",
    "#ax = world.clip([-74.204251, 4.485794, -74.017856, 4.781398]).plot(color=\"white\", edgecolor=\"black\")\n",
    "\n",
    "\n",
    "\n",
    "# We restrict to Bogota.\n",
    "cities = geopandas.read_file(geopandas.datasets.get_path('naturalearth_cities'))\n",
    "\n",
    "bogota = cities.loc[cities['name'] == 'Bogota'] # get Singapore row\n",
    "boundaries = cities['geometry'] # get Singapore geometry\n",
    "\n",
    "ax = bogota.plot(color='white', edgecolor='black')\n",
    "gdf.plot(ax=ax, color=\"red\")\n",
    "\n",
    "\n",
    "\n",
    "#world\n",
    "#ax = world.plot(color='white', edgecolor='black')\n",
    "#gdf.plot(ax=ax, color=\"red\")\n",
    "\n",
    "#ax = world[world.name == 'São Paulo'].plot(color='white', edgecolor='black')\n",
    "\n",
    "\n",
    "# We can now plot our ``GeoDataFrame``.\n",
    "#gdf.plot(ax=ax, color=\"red\")\n",
    "\n",
    "#plt.show()"
   ]
  },
  {
   "cell_type": "code",
   "execution_count": 4,
   "metadata": {},
   "outputs": [
    {
     "data": {
      "text/plain": [
       "<Axes: >"
      ]
     },
     "execution_count": 4,
     "metadata": {},
     "output_type": "execute_result"
    },
    {
     "data": {
      "image/png": "[encoded data removed]",
      "text/plain": [
       "<Figure size 640x480 with 1 Axes>"
      ]
     },
     "metadata": {},
     "output_type": "display_data"
    }
   ],
   "source": [
    "colombia = geopandas.read_file(geodatasets.get_path('geoda.malaria'))\n",
    "ax = colombia.clip([-74.204251, 4.485794, -74.017856, 4.781398]).plot(color=\"white\", edgecolor=\"black\")\n",
    "\n",
    "gdf = geopandas.GeoDataFrame(df, geometry=geopandas.points_from_xy(df.Longitude, df.Latitude))\n",
    "\n",
    "\n",
    "\n",
    "gdf.plot(ax=ax, color=\"red\")\n",
    "\n"
   ]
  },
  {
   "cell_type": "code",
   "execution_count": null,
   "metadata": {},
   "outputs": [],
   "source": []
  },
  {
   "cell_type": "markdown",
   "metadata": {},
   "source": []
  },
  {
   "cell_type": "code",
   "execution_count": null,
   "metadata": {},
   "outputs": [],
   "source": [
    "! pip install geopy"
   ]
  },
  {
   "cell_type": "code",
   "execution_count": 1,
   "metadata": {},
   "outputs": [
    {
     "name": "stdout",
     "output_type": "stream",
     "text": [
      "(4.5724241, -74.1392702)\n"
     ]
    },
    {
     "ename": "GeocoderUnavailable",
     "evalue": "HTTPSConnectionPool(host='nominatim.openstreetmap.org', port=443): Max retries exceeded with url: /search?q=AV+AVENIDA+CIUDAD+DE+CALI-CL+26+02+Bogota&format=json&limit=1 (Caused by ReadTimeoutError(\"HTTPSConnectionPool(host='nominatim.openstreetmap.org', port=443): Read timed out. (read timeout=1)\"))",
     "output_type": "error",
     "traceback": [
      "\u001b[0;31m---------------------------------------------------------------------------\u001b[0m",
      "\u001b[0;31mTimeoutError\u001b[0m                              Traceback (most recent call last)",
      "File \u001b[0;32m~/.python/current/lib/python3.10/site-packages/urllib3/connectionpool.py:537\u001b[0m, in \u001b[0;36mHTTPConnectionPool._make_request\u001b[0;34m(self, conn, method, url, body, headers, retries, timeout, chunked, response_conn, preload_content, decode_content, enforce_content_length)\u001b[0m\n\u001b[1;32m    536\u001b[0m \u001b[39mtry\u001b[39;00m:\n\u001b[0;32m--> 537\u001b[0m     response \u001b[39m=\u001b[39m conn\u001b[39m.\u001b[39;49mgetresponse()\n\u001b[1;32m    538\u001b[0m \u001b[39mexcept\u001b[39;00m (BaseSSLError, \u001b[39mOSError\u001b[39;00m) \u001b[39mas\u001b[39;00m e:\n",
      "File \u001b[0;32m~/.python/current/lib/python3.10/site-packages/urllib3/connection.py:461\u001b[0m, in \u001b[0;36mHTTPConnection.getresponse\u001b[0;34m(self)\u001b[0m\n\u001b[1;32m    460\u001b[0m \u001b[39m# Get the response from http.client.HTTPConnection\u001b[39;00m\n\u001b[0;32m--> 461\u001b[0m httplib_response \u001b[39m=\u001b[39m \u001b[39msuper\u001b[39;49m()\u001b[39m.\u001b[39;49mgetresponse()\n\u001b[1;32m    463\u001b[0m \u001b[39mtry\u001b[39;00m:\n",
      "File \u001b[0;32m~/.python/current/lib/python3.10/http/client.py:1375\u001b[0m, in \u001b[0;36mHTTPConnection.getresponse\u001b[0;34m(self)\u001b[0m\n\u001b[1;32m   1374\u001b[0m \u001b[39mtry\u001b[39;00m:\n\u001b[0;32m-> 1375\u001b[0m     response\u001b[39m.\u001b[39;49mbegin()\n\u001b[1;32m   1376\u001b[0m \u001b[39mexcept\u001b[39;00m \u001b[39mConnectionError\u001b[39;00m:\n",
      "File \u001b[0;32m~/.python/current/lib/python3.10/http/client.py:318\u001b[0m, in \u001b[0;36mHTTPResponse.begin\u001b[0;34m(self)\u001b[0m\n\u001b[1;32m    317\u001b[0m \u001b[39mwhile\u001b[39;00m \u001b[39mTrue\u001b[39;00m:\n\u001b[0;32m--> 318\u001b[0m     version, status, reason \u001b[39m=\u001b[39m \u001b[39mself\u001b[39;49m\u001b[39m.\u001b[39;49m_read_status()\n\u001b[1;32m    319\u001b[0m     \u001b[39mif\u001b[39;00m status \u001b[39m!=\u001b[39m CONTINUE:\n",
      "File \u001b[0;32m~/.python/current/lib/python3.10/http/client.py:279\u001b[0m, in \u001b[0;36mHTTPResponse._read_status\u001b[0;34m(self)\u001b[0m\n\u001b[1;32m    278\u001b[0m \u001b[39mdef\u001b[39;00m \u001b[39m_read_status\u001b[39m(\u001b[39mself\u001b[39m):\n\u001b[0;32m--> 279\u001b[0m     line \u001b[39m=\u001b[39m \u001b[39mstr\u001b[39m(\u001b[39mself\u001b[39;49m\u001b[39m.\u001b[39;49mfp\u001b[39m.\u001b[39;49mreadline(_MAXLINE \u001b[39m+\u001b[39;49m \u001b[39m1\u001b[39;49m), \u001b[39m\"\u001b[39m\u001b[39miso-8859-1\u001b[39m\u001b[39m\"\u001b[39m)\n\u001b[1;32m    280\u001b[0m     \u001b[39mif\u001b[39;00m \u001b[39mlen\u001b[39m(line) \u001b[39m>\u001b[39m _MAXLINE:\n",
      "File \u001b[0;32m~/.python/current/lib/python3.10/socket.py:705\u001b[0m, in \u001b[0;36mSocketIO.readinto\u001b[0;34m(self, b)\u001b[0m\n\u001b[1;32m    704\u001b[0m \u001b[39mtry\u001b[39;00m:\n\u001b[0;32m--> 705\u001b[0m     \u001b[39mreturn\u001b[39;00m \u001b[39mself\u001b[39;49m\u001b[39m.\u001b[39;49m_sock\u001b[39m.\u001b[39;49mrecv_into(b)\n\u001b[1;32m    706\u001b[0m \u001b[39mexcept\u001b[39;00m timeout:\n",
      "File \u001b[0;32m~/.python/current/lib/python3.10/ssl.py:1307\u001b[0m, in \u001b[0;36mSSLSocket.recv_into\u001b[0;34m(self, buffer, nbytes, flags)\u001b[0m\n\u001b[1;32m   1304\u001b[0m         \u001b[39mraise\u001b[39;00m \u001b[39mValueError\u001b[39;00m(\n\u001b[1;32m   1305\u001b[0m           \u001b[39m\"\u001b[39m\u001b[39mnon-zero flags not allowed in calls to recv_into() on \u001b[39m\u001b[39m%s\u001b[39;00m\u001b[39m\"\u001b[39m \u001b[39m%\u001b[39m\n\u001b[1;32m   1306\u001b[0m           \u001b[39mself\u001b[39m\u001b[39m.\u001b[39m\u001b[39m__class__\u001b[39m)\n\u001b[0;32m-> 1307\u001b[0m     \u001b[39mreturn\u001b[39;00m \u001b[39mself\u001b[39;49m\u001b[39m.\u001b[39;49mread(nbytes, buffer)\n\u001b[1;32m   1308\u001b[0m \u001b[39melse\u001b[39;00m:\n",
      "File \u001b[0;32m~/.python/current/lib/python3.10/ssl.py:1163\u001b[0m, in \u001b[0;36mSSLSocket.read\u001b[0;34m(self, len, buffer)\u001b[0m\n\u001b[1;32m   1162\u001b[0m \u001b[39mif\u001b[39;00m buffer \u001b[39mis\u001b[39;00m \u001b[39mnot\u001b[39;00m \u001b[39mNone\u001b[39;00m:\n\u001b[0;32m-> 1163\u001b[0m     \u001b[39mreturn\u001b[39;00m \u001b[39mself\u001b[39;49m\u001b[39m.\u001b[39;49m_sslobj\u001b[39m.\u001b[39;49mread(\u001b[39mlen\u001b[39;49m, buffer)\n\u001b[1;32m   1164\u001b[0m \u001b[39melse\u001b[39;00m:\n",
      "\u001b[0;31mTimeoutError\u001b[0m: The read operation timed out",
      "\nThe above exception was the direct cause of the following exception:\n",
      "\u001b[0;31mReadTimeoutError\u001b[0m                          Traceback (most recent call last)",
      "File \u001b[0;32m~/.python/current/lib/python3.10/site-packages/urllib3/connectionpool.py:791\u001b[0m, in \u001b[0;36mHTTPConnectionPool.urlopen\u001b[0;34m(self, method, url, body, headers, retries, redirect, assert_same_host, timeout, pool_timeout, release_conn, chunked, body_pos, preload_content, decode_content, **response_kw)\u001b[0m\n\u001b[1;32m    790\u001b[0m \u001b[39m# Make the request on the HTTPConnection object\u001b[39;00m\n\u001b[0;32m--> 791\u001b[0m response \u001b[39m=\u001b[39m \u001b[39mself\u001b[39;49m\u001b[39m.\u001b[39;49m_make_request(\n\u001b[1;32m    792\u001b[0m     conn,\n\u001b[1;32m    793\u001b[0m     method,\n\u001b[1;32m    794\u001b[0m     url,\n\u001b[1;32m    795\u001b[0m     timeout\u001b[39m=\u001b[39;49mtimeout_obj,\n\u001b[1;32m    796\u001b[0m     body\u001b[39m=\u001b[39;49mbody,\n\u001b[1;32m    797\u001b[0m     headers\u001b[39m=\u001b[39;49mheaders,\n\u001b[1;32m    798\u001b[0m     chunked\u001b[39m=\u001b[39;49mchunked,\n\u001b[1;32m    799\u001b[0m     retries\u001b[39m=\u001b[39;49mretries,\n\u001b[1;32m    800\u001b[0m     response_conn\u001b[39m=\u001b[39;49mresponse_conn,\n\u001b[1;32m    801\u001b[0m     preload_content\u001b[39m=\u001b[39;49mpreload_content,\n\u001b[1;32m    802\u001b[0m     decode_content\u001b[39m=\u001b[39;49mdecode_content,\n\u001b[1;32m    803\u001b[0m     \u001b[39m*\u001b[39;49m\u001b[39m*\u001b[39;49mresponse_kw,\n\u001b[1;32m    804\u001b[0m )\n\u001b[1;32m    806\u001b[0m \u001b[39m# Everything went great!\u001b[39;00m\n",
      "File \u001b[0;32m~/.python/current/lib/python3.10/site-packages/urllib3/connectionpool.py:539\u001b[0m, in \u001b[0;36mHTTPConnectionPool._make_request\u001b[0;34m(self, conn, method, url, body, headers, retries, timeout, chunked, response_conn, preload_content, decode_content, enforce_content_length)\u001b[0m\n\u001b[1;32m    538\u001b[0m \u001b[39mexcept\u001b[39;00m (BaseSSLError, \u001b[39mOSError\u001b[39;00m) \u001b[39mas\u001b[39;00m e:\n\u001b[0;32m--> 539\u001b[0m     \u001b[39mself\u001b[39;49m\u001b[39m.\u001b[39;49m_raise_timeout(err\u001b[39m=\u001b[39;49me, url\u001b[39m=\u001b[39;49murl, timeout_value\u001b[39m=\u001b[39;49mread_timeout)\n\u001b[1;32m    540\u001b[0m     \u001b[39mraise\u001b[39;00m\n",
      "File \u001b[0;32m~/.python/current/lib/python3.10/site-packages/urllib3/connectionpool.py:371\u001b[0m, in \u001b[0;36mHTTPConnectionPool._raise_timeout\u001b[0;34m(self, err, url, timeout_value)\u001b[0m\n\u001b[1;32m    370\u001b[0m \u001b[39mif\u001b[39;00m \u001b[39misinstance\u001b[39m(err, SocketTimeout):\n\u001b[0;32m--> 371\u001b[0m     \u001b[39mraise\u001b[39;00m ReadTimeoutError(\n\u001b[1;32m    372\u001b[0m         \u001b[39mself\u001b[39m, url, \u001b[39mf\u001b[39m\u001b[39m\"\u001b[39m\u001b[39mRead timed out. (read timeout=\u001b[39m\u001b[39m{\u001b[39;00mtimeout_value\u001b[39m}\u001b[39;00m\u001b[39m)\u001b[39m\u001b[39m\"\u001b[39m\n\u001b[1;32m    373\u001b[0m     ) \u001b[39mfrom\u001b[39;00m \u001b[39merr\u001b[39;00m\n\u001b[1;32m    375\u001b[0m \u001b[39m# See the above comment about EAGAIN in Python 3.\u001b[39;00m\n",
      "\u001b[0;31mReadTimeoutError\u001b[0m: HTTPSConnectionPool(host='nominatim.openstreetmap.org', port=443): Read timed out. (read timeout=1)",
      "\nThe above exception was the direct cause of the following exception:\n",
      "\u001b[0;31mMaxRetryError\u001b[0m                             Traceback (most recent call last)",
      "File \u001b[0;32m~/.local/lib/python3.10/site-packages/requests/adapters.py:486\u001b[0m, in \u001b[0;36mHTTPAdapter.send\u001b[0;34m(self, request, stream, timeout, verify, cert, proxies)\u001b[0m\n\u001b[1;32m    485\u001b[0m \u001b[39mtry\u001b[39;00m:\n\u001b[0;32m--> 486\u001b[0m     resp \u001b[39m=\u001b[39m conn\u001b[39m.\u001b[39;49murlopen(\n\u001b[1;32m    487\u001b[0m         method\u001b[39m=\u001b[39;49mrequest\u001b[39m.\u001b[39;49mmethod,\n\u001b[1;32m    488\u001b[0m         url\u001b[39m=\u001b[39;49murl,\n\u001b[1;32m    489\u001b[0m         body\u001b[39m=\u001b[39;49mrequest\u001b[39m.\u001b[39;49mbody,\n\u001b[1;32m    490\u001b[0m         headers\u001b[39m=\u001b[39;49mrequest\u001b[39m.\u001b[39;49mheaders,\n\u001b[1;32m    491\u001b[0m         redirect\u001b[39m=\u001b[39;49m\u001b[39mFalse\u001b[39;49;00m,\n\u001b[1;32m    492\u001b[0m         assert_same_host\u001b[39m=\u001b[39;49m\u001b[39mFalse\u001b[39;49;00m,\n\u001b[1;32m    493\u001b[0m         preload_content\u001b[39m=\u001b[39;49m\u001b[39mFalse\u001b[39;49;00m,\n\u001b[1;32m    494\u001b[0m         decode_content\u001b[39m=\u001b[39;49m\u001b[39mFalse\u001b[39;49;00m,\n\u001b[1;32m    495\u001b[0m         retries\u001b[39m=\u001b[39;49m\u001b[39mself\u001b[39;49m\u001b[39m.\u001b[39;49mmax_retries,\n\u001b[1;32m    496\u001b[0m         timeout\u001b[39m=\u001b[39;49mtimeout,\n\u001b[1;32m    497\u001b[0m         chunked\u001b[39m=\u001b[39;49mchunked,\n\u001b[1;32m    498\u001b[0m     )\n\u001b[1;32m    500\u001b[0m \u001b[39mexcept\u001b[39;00m (ProtocolError, \u001b[39mOSError\u001b[39;00m) \u001b[39mas\u001b[39;00m err:\n",
      "File \u001b[0;32m~/.python/current/lib/python3.10/site-packages/urllib3/connectionpool.py:875\u001b[0m, in \u001b[0;36mHTTPConnectionPool.urlopen\u001b[0;34m(self, method, url, body, headers, retries, redirect, assert_same_host, timeout, pool_timeout, release_conn, chunked, body_pos, preload_content, decode_content, **response_kw)\u001b[0m\n\u001b[1;32m    872\u001b[0m     log\u001b[39m.\u001b[39mwarning(\n\u001b[1;32m    873\u001b[0m         \u001b[39m\"\u001b[39m\u001b[39mRetrying (\u001b[39m\u001b[39m%r\u001b[39;00m\u001b[39m) after connection broken by \u001b[39m\u001b[39m'\u001b[39m\u001b[39m%r\u001b[39;00m\u001b[39m'\u001b[39m\u001b[39m: \u001b[39m\u001b[39m%s\u001b[39;00m\u001b[39m\"\u001b[39m, retries, err, url\n\u001b[1;32m    874\u001b[0m     )\n\u001b[0;32m--> 875\u001b[0m     \u001b[39mreturn\u001b[39;00m \u001b[39mself\u001b[39;49m\u001b[39m.\u001b[39;49murlopen(\n\u001b[1;32m    876\u001b[0m         method,\n\u001b[1;32m    877\u001b[0m         url,\n\u001b[1;32m    878\u001b[0m         body,\n\u001b[1;32m    879\u001b[0m         headers,\n\u001b[1;32m    880\u001b[0m         retries,\n\u001b[1;32m    881\u001b[0m         redirect,\n\u001b[1;32m    882\u001b[0m         assert_same_host,\n\u001b[1;32m    883\u001b[0m         timeout\u001b[39m=\u001b[39;49mtimeout,\n\u001b[1;32m    884\u001b[0m         pool_timeout\u001b[39m=\u001b[39;49mpool_timeout,\n\u001b[1;32m    885\u001b[0m         release_conn\u001b[39m=\u001b[39;49mrelease_conn,\n\u001b[1;32m    886\u001b[0m         chunked\u001b[39m=\u001b[39;49mchunked,\n\u001b[1;32m    887\u001b[0m         body_pos\u001b[39m=\u001b[39;49mbody_pos,\n\u001b[1;32m    888\u001b[0m         preload_content\u001b[39m=\u001b[39;49mpreload_content,\n\u001b[1;32m    889\u001b[0m         decode_content\u001b[39m=\u001b[39;49mdecode_content,\n\u001b[1;32m    890\u001b[0m         \u001b[39m*\u001b[39;49m\u001b[39m*\u001b[39;49mresponse_kw,\n\u001b[1;32m    891\u001b[0m     )\n\u001b[1;32m    893\u001b[0m \u001b[39m# Handle redirect?\u001b[39;00m\n",
      "File \u001b[0;32m~/.python/current/lib/python3.10/site-packages/urllib3/connectionpool.py:875\u001b[0m, in \u001b[0;36mHTTPConnectionPool.urlopen\u001b[0;34m(self, method, url, body, headers, retries, redirect, assert_same_host, timeout, pool_timeout, release_conn, chunked, body_pos, preload_content, decode_content, **response_kw)\u001b[0m\n\u001b[1;32m    872\u001b[0m     log\u001b[39m.\u001b[39mwarning(\n\u001b[1;32m    873\u001b[0m         \u001b[39m\"\u001b[39m\u001b[39mRetrying (\u001b[39m\u001b[39m%r\u001b[39;00m\u001b[39m) after connection broken by \u001b[39m\u001b[39m'\u001b[39m\u001b[39m%r\u001b[39;00m\u001b[39m'\u001b[39m\u001b[39m: \u001b[39m\u001b[39m%s\u001b[39;00m\u001b[39m\"\u001b[39m, retries, err, url\n\u001b[1;32m    874\u001b[0m     )\n\u001b[0;32m--> 875\u001b[0m     \u001b[39mreturn\u001b[39;00m \u001b[39mself\u001b[39;49m\u001b[39m.\u001b[39;49murlopen(\n\u001b[1;32m    876\u001b[0m         method,\n\u001b[1;32m    877\u001b[0m         url,\n\u001b[1;32m    878\u001b[0m         body,\n\u001b[1;32m    879\u001b[0m         headers,\n\u001b[1;32m    880\u001b[0m         retries,\n\u001b[1;32m    881\u001b[0m         redirect,\n\u001b[1;32m    882\u001b[0m         assert_same_host,\n\u001b[1;32m    883\u001b[0m         timeout\u001b[39m=\u001b[39;49mtimeout,\n\u001b[1;32m    884\u001b[0m         pool_timeout\u001b[39m=\u001b[39;49mpool_timeout,\n\u001b[1;32m    885\u001b[0m         release_conn\u001b[39m=\u001b[39;49mrelease_conn,\n\u001b[1;32m    886\u001b[0m         chunked\u001b[39m=\u001b[39;49mchunked,\n\u001b[1;32m    887\u001b[0m         body_pos\u001b[39m=\u001b[39;49mbody_pos,\n\u001b[1;32m    888\u001b[0m         preload_content\u001b[39m=\u001b[39;49mpreload_content,\n\u001b[1;32m    889\u001b[0m         decode_content\u001b[39m=\u001b[39;49mdecode_content,\n\u001b[1;32m    890\u001b[0m         \u001b[39m*\u001b[39;49m\u001b[39m*\u001b[39;49mresponse_kw,\n\u001b[1;32m    891\u001b[0m     )\n\u001b[1;32m    893\u001b[0m \u001b[39m# Handle redirect?\u001b[39;00m\n",
      "File \u001b[0;32m~/.python/current/lib/python3.10/site-packages/urllib3/connectionpool.py:845\u001b[0m, in \u001b[0;36mHTTPConnectionPool.urlopen\u001b[0;34m(self, method, url, body, headers, retries, redirect, assert_same_host, timeout, pool_timeout, release_conn, chunked, body_pos, preload_content, decode_content, **response_kw)\u001b[0m\n\u001b[1;32m    843\u001b[0m     new_e \u001b[39m=\u001b[39m ProtocolError(\u001b[39m\"\u001b[39m\u001b[39mConnection aborted.\u001b[39m\u001b[39m\"\u001b[39m, new_e)\n\u001b[0;32m--> 845\u001b[0m retries \u001b[39m=\u001b[39m retries\u001b[39m.\u001b[39;49mincrement(\n\u001b[1;32m    846\u001b[0m     method, url, error\u001b[39m=\u001b[39;49mnew_e, _pool\u001b[39m=\u001b[39;49m\u001b[39mself\u001b[39;49m, _stacktrace\u001b[39m=\u001b[39;49msys\u001b[39m.\u001b[39;49mexc_info()[\u001b[39m2\u001b[39;49m]\n\u001b[1;32m    847\u001b[0m )\n\u001b[1;32m    848\u001b[0m retries\u001b[39m.\u001b[39msleep()\n",
      "File \u001b[0;32m~/.python/current/lib/python3.10/site-packages/urllib3/util/retry.py:515\u001b[0m, in \u001b[0;36mRetry.increment\u001b[0;34m(self, method, url, response, error, _pool, _stacktrace)\u001b[0m\n\u001b[1;32m    514\u001b[0m     reason \u001b[39m=\u001b[39m error \u001b[39mor\u001b[39;00m ResponseError(cause)\n\u001b[0;32m--> 515\u001b[0m     \u001b[39mraise\u001b[39;00m MaxRetryError(_pool, url, reason) \u001b[39mfrom\u001b[39;00m \u001b[39mreason\u001b[39;00m  \u001b[39m# type: ignore[arg-type]\u001b[39;00m\n\u001b[1;32m    517\u001b[0m log\u001b[39m.\u001b[39mdebug(\u001b[39m\"\u001b[39m\u001b[39mIncremented Retry for (url=\u001b[39m\u001b[39m'\u001b[39m\u001b[39m%s\u001b[39;00m\u001b[39m'\u001b[39m\u001b[39m): \u001b[39m\u001b[39m%r\u001b[39;00m\u001b[39m\"\u001b[39m, url, new_retry)\n",
      "\u001b[0;31mMaxRetryError\u001b[0m: HTTPSConnectionPool(host='nominatim.openstreetmap.org', port=443): Max retries exceeded with url: /search?q=AV+AVENIDA+CIUDAD+DE+CALI-CL+26+02+Bogota&format=json&limit=1 (Caused by ReadTimeoutError(\"HTTPSConnectionPool(host='nominatim.openstreetmap.org', port=443): Read timed out. (read timeout=1)\"))",
      "\nDuring handling of the above exception, another exception occurred:\n",
      "\u001b[0;31mConnectionError\u001b[0m                           Traceback (most recent call last)",
      "File \u001b[0;32m~/.python/current/lib/python3.10/site-packages/geopy/adapters.py:482\u001b[0m, in \u001b[0;36mRequestsAdapter._request\u001b[0;34m(self, url, timeout, headers)\u001b[0m\n\u001b[1;32m    481\u001b[0m \u001b[39mtry\u001b[39;00m:\n\u001b[0;32m--> 482\u001b[0m     resp \u001b[39m=\u001b[39m \u001b[39mself\u001b[39;49m\u001b[39m.\u001b[39;49msession\u001b[39m.\u001b[39;49mget(url, timeout\u001b[39m=\u001b[39;49mtimeout, headers\u001b[39m=\u001b[39;49mheaders)\n\u001b[1;32m    483\u001b[0m \u001b[39mexcept\u001b[39;00m \u001b[39mException\u001b[39;00m \u001b[39mas\u001b[39;00m error:\n",
      "File \u001b[0;32m~/.local/lib/python3.10/site-packages/requests/sessions.py:602\u001b[0m, in \u001b[0;36mSession.get\u001b[0;34m(self, url, **kwargs)\u001b[0m\n\u001b[1;32m    601\u001b[0m kwargs\u001b[39m.\u001b[39msetdefault(\u001b[39m\"\u001b[39m\u001b[39mallow_redirects\u001b[39m\u001b[39m\"\u001b[39m, \u001b[39mTrue\u001b[39;00m)\n\u001b[0;32m--> 602\u001b[0m \u001b[39mreturn\u001b[39;00m \u001b[39mself\u001b[39;49m\u001b[39m.\u001b[39;49mrequest(\u001b[39m\"\u001b[39;49m\u001b[39mGET\u001b[39;49m\u001b[39m\"\u001b[39;49m, url, \u001b[39m*\u001b[39;49m\u001b[39m*\u001b[39;49mkwargs)\n",
      "File \u001b[0;32m~/.local/lib/python3.10/site-packages/requests/sessions.py:589\u001b[0m, in \u001b[0;36mSession.request\u001b[0;34m(self, method, url, params, data, headers, cookies, files, auth, timeout, allow_redirects, proxies, hooks, stream, verify, cert, json)\u001b[0m\n\u001b[1;32m    588\u001b[0m send_kwargs\u001b[39m.\u001b[39mupdate(settings)\n\u001b[0;32m--> 589\u001b[0m resp \u001b[39m=\u001b[39m \u001b[39mself\u001b[39;49m\u001b[39m.\u001b[39;49msend(prep, \u001b[39m*\u001b[39;49m\u001b[39m*\u001b[39;49msend_kwargs)\n\u001b[1;32m    591\u001b[0m \u001b[39mreturn\u001b[39;00m resp\n",
      "File \u001b[0;32m~/.local/lib/python3.10/site-packages/requests/sessions.py:703\u001b[0m, in \u001b[0;36mSession.send\u001b[0;34m(self, request, **kwargs)\u001b[0m\n\u001b[1;32m    702\u001b[0m \u001b[39m# Send the request\u001b[39;00m\n\u001b[0;32m--> 703\u001b[0m r \u001b[39m=\u001b[39m adapter\u001b[39m.\u001b[39;49msend(request, \u001b[39m*\u001b[39;49m\u001b[39m*\u001b[39;49mkwargs)\n\u001b[1;32m    705\u001b[0m \u001b[39m# Total elapsed time of the request (approximately)\u001b[39;00m\n",
      "File \u001b[0;32m~/.local/lib/python3.10/site-packages/requests/adapters.py:519\u001b[0m, in \u001b[0;36mHTTPAdapter.send\u001b[0;34m(self, request, stream, timeout, verify, cert, proxies)\u001b[0m\n\u001b[1;32m    517\u001b[0m         \u001b[39mraise\u001b[39;00m SSLError(e, request\u001b[39m=\u001b[39mrequest)\n\u001b[0;32m--> 519\u001b[0m     \u001b[39mraise\u001b[39;00m \u001b[39mConnectionError\u001b[39;00m(e, request\u001b[39m=\u001b[39mrequest)\n\u001b[1;32m    521\u001b[0m \u001b[39mexcept\u001b[39;00m ClosedPoolError \u001b[39mas\u001b[39;00m e:\n",
      "\u001b[0;31mConnectionError\u001b[0m: HTTPSConnectionPool(host='nominatim.openstreetmap.org', port=443): Max retries exceeded with url: /search?q=AV+AVENIDA+CIUDAD+DE+CALI-CL+26+02+Bogota&format=json&limit=1 (Caused by ReadTimeoutError(\"HTTPSConnectionPool(host='nominatim.openstreetmap.org', port=443): Read timed out. (read timeout=1)\"))",
      "\nDuring handling of the above exception, another exception occurred:\n",
      "\u001b[0;31mGeocoderUnavailable\u001b[0m                       Traceback (most recent call last)",
      "\u001b[1;32m/workspaces/Final-Project-557/parsing_excel.ipynb Cell 44\u001b[0m line \u001b[0;36m4\n\u001b[1;32m     <a href='vscode-notebook-cell://codespaces%2Bfluffy-space-fortnight-6vqw7g75jqjfxvx4/workspaces/Final-Project-557/parsing_excel.ipynb#X61sdnNjb2RlLXJlbW90ZQ%3D%3D?line=40'>41</a>\u001b[0m \u001b[39mfor\u001b[39;00m address \u001b[39min\u001b[39;00m address_vec:\n\u001b[1;32m     <a href='vscode-notebook-cell://codespaces%2Bfluffy-space-fortnight-6vqw7g75jqjfxvx4/workspaces/Final-Project-557/parsing_excel.ipynb#X61sdnNjb2RlLXJlbW90ZQ%3D%3D?line=41'>42</a>\u001b[0m     adr_city \u001b[39m=\u001b[39m address \u001b[39m+\u001b[39m \u001b[39m\"\u001b[39m\u001b[39m Bogota\u001b[39m\u001b[39m\"\u001b[39m\n\u001b[0;32m---> <a href='vscode-notebook-cell://codespaces%2Bfluffy-space-fortnight-6vqw7g75jqjfxvx4/workspaces/Final-Project-557/parsing_excel.ipynb#X61sdnNjb2RlLXJlbW90ZQ%3D%3D?line=42'>43</a>\u001b[0m     location \u001b[39m=\u001b[39m geolocator\u001b[39m.\u001b[39;49mgeocode(adr_city)\n\u001b[1;32m     <a href='vscode-notebook-cell://codespaces%2Bfluffy-space-fortnight-6vqw7g75jqjfxvx4/workspaces/Final-Project-557/parsing_excel.ipynb#X61sdnNjb2RlLXJlbW90ZQ%3D%3D?line=43'>44</a>\u001b[0m     \u001b[39m#print(adr_city)\u001b[39;00m\n\u001b[1;32m     <a href='vscode-notebook-cell://codespaces%2Bfluffy-space-fortnight-6vqw7g75jqjfxvx4/workspaces/Final-Project-557/parsing_excel.ipynb#X61sdnNjb2RlLXJlbW90ZQ%3D%3D?line=44'>45</a>\u001b[0m     \u001b[39m#print(location)\u001b[39;00m\n\u001b[1;32m     <a href='vscode-notebook-cell://codespaces%2Bfluffy-space-fortnight-6vqw7g75jqjfxvx4/workspaces/Final-Project-557/parsing_excel.ipynb#X61sdnNjb2RlLXJlbW90ZQ%3D%3D?line=45'>46</a>\u001b[0m     \u001b[39mif\u001b[39;00m location\u001b[39m!=\u001b[39m\u001b[39mNone\u001b[39;00m:\n",
      "File \u001b[0;32m~/.python/current/lib/python3.10/site-packages/geopy/geocoders/nominatim.py:297\u001b[0m, in \u001b[0;36mNominatim.geocode\u001b[0;34m(self, query, exactly_one, timeout, limit, addressdetails, language, geometry, extratags, country_codes, viewbox, bounded, featuretype, namedetails)\u001b[0m\n\u001b[1;32m    295\u001b[0m logger\u001b[39m.\u001b[39mdebug(\u001b[39m\"\u001b[39m\u001b[39m%s\u001b[39;00m\u001b[39m.geocode: \u001b[39m\u001b[39m%s\u001b[39;00m\u001b[39m\"\u001b[39m, \u001b[39mself\u001b[39m\u001b[39m.\u001b[39m\u001b[39m__class__\u001b[39m\u001b[39m.\u001b[39m\u001b[39m__name__\u001b[39m, url)\n\u001b[1;32m    296\u001b[0m callback \u001b[39m=\u001b[39m partial(\u001b[39mself\u001b[39m\u001b[39m.\u001b[39m_parse_json, exactly_one\u001b[39m=\u001b[39mexactly_one)\n\u001b[0;32m--> 297\u001b[0m \u001b[39mreturn\u001b[39;00m \u001b[39mself\u001b[39;49m\u001b[39m.\u001b[39;49m_call_geocoder(url, callback, timeout\u001b[39m=\u001b[39;49mtimeout)\n",
      "File \u001b[0;32m~/.python/current/lib/python3.10/site-packages/geopy/geocoders/base.py:368\u001b[0m, in \u001b[0;36mGeocoder._call_geocoder\u001b[0;34m(self, url, callback, timeout, is_json, headers)\u001b[0m\n\u001b[1;32m    366\u001b[0m \u001b[39mtry\u001b[39;00m:\n\u001b[1;32m    367\u001b[0m     \u001b[39mif\u001b[39;00m is_json:\n\u001b[0;32m--> 368\u001b[0m         result \u001b[39m=\u001b[39m \u001b[39mself\u001b[39;49m\u001b[39m.\u001b[39;49madapter\u001b[39m.\u001b[39;49mget_json(url, timeout\u001b[39m=\u001b[39;49mtimeout, headers\u001b[39m=\u001b[39;49mreq_headers)\n\u001b[1;32m    369\u001b[0m     \u001b[39melse\u001b[39;00m:\n\u001b[1;32m    370\u001b[0m         result \u001b[39m=\u001b[39m \u001b[39mself\u001b[39m\u001b[39m.\u001b[39madapter\u001b[39m.\u001b[39mget_text(url, timeout\u001b[39m=\u001b[39mtimeout, headers\u001b[39m=\u001b[39mreq_headers)\n",
      "File \u001b[0;32m~/.python/current/lib/python3.10/site-packages/geopy/adapters.py:472\u001b[0m, in \u001b[0;36mRequestsAdapter.get_json\u001b[0;34m(self, url, timeout, headers)\u001b[0m\n\u001b[1;32m    471\u001b[0m \u001b[39mdef\u001b[39;00m \u001b[39mget_json\u001b[39m(\u001b[39mself\u001b[39m, url, \u001b[39m*\u001b[39m, timeout, headers):\n\u001b[0;32m--> 472\u001b[0m     resp \u001b[39m=\u001b[39m \u001b[39mself\u001b[39;49m\u001b[39m.\u001b[39;49m_request(url, timeout\u001b[39m=\u001b[39;49mtimeout, headers\u001b[39m=\u001b[39;49mheaders)\n\u001b[1;32m    473\u001b[0m     \u001b[39mtry\u001b[39;00m:\n\u001b[1;32m    474\u001b[0m         \u001b[39mreturn\u001b[39;00m resp\u001b[39m.\u001b[39mjson()\n",
      "File \u001b[0;32m~/.python/current/lib/python3.10/site-packages/geopy/adapters.py:494\u001b[0m, in \u001b[0;36mRequestsAdapter._request\u001b[0;34m(self, url, timeout, headers)\u001b[0m\n\u001b[1;32m    492\u001b[0m         \u001b[39mraise\u001b[39;00m GeocoderServiceError(message)\n\u001b[1;32m    493\u001b[0m     \u001b[39melse\u001b[39;00m:\n\u001b[0;32m--> 494\u001b[0m         \u001b[39mraise\u001b[39;00m GeocoderUnavailable(message)\n\u001b[1;32m    495\u001b[0m \u001b[39melif\u001b[39;00m \u001b[39misinstance\u001b[39m(error, requests\u001b[39m.\u001b[39mTimeout):\n\u001b[1;32m    496\u001b[0m     \u001b[39mraise\u001b[39;00m GeocoderTimedOut(\u001b[39m\"\u001b[39m\u001b[39mService timed out\u001b[39m\u001b[39m\"\u001b[39m)\n",
      "\u001b[0;31mGeocoderUnavailable\u001b[0m: HTTPSConnectionPool(host='nominatim.openstreetmap.org', port=443): Max retries exceeded with url: /search?q=AV+AVENIDA+CIUDAD+DE+CALI-CL+26+02+Bogota&format=json&limit=1 (Caused by ReadTimeoutError(\"HTTPSConnectionPool(host='nominatim.openstreetmap.org', port=443): Read timed out. (read timeout=1)\"))"
     ]
    }
   ],
   "source": [
    "\n",
    "# https://pypi.org/project/geopy/\n",
    "\n",
    "#KR 80-CL 2                         293\n",
    "#CL 13-KR 72                        269\n",
    "#AV AVENIDA CIUDAD DE CALI-CL 26    264\n",
    "#AV AVENIDA BOYACA-CL 13            261\n",
    "#CL 80-KR 72                        256\n",
    "\n",
    "import pandas as pd\n",
    "import geopandas\n",
    "import matplotlib.pyplot as plt\n",
    "from geodatasets import get_path\n",
    "import geodatasets\n",
    "\n",
    "from functools import partial\n",
    "\n",
    "from geopy.geocoders import Nominatim\n",
    "geolocator = Nominatim(user_agent=\"dm1\")\n",
    "\n",
    "\n",
    "address_vec = ['KR 80-CL 2 51', 'AV AVENIDA BOYACA-CL 80 02', 'AV AVENIDA CIUDAD DE CALI-CL 26 02', 'CL 13-KR 72 02' , 'AV AVENIDA BOYACA-CL 13 02']\n",
    "\n",
    "df = pd.DataFrame(\n",
    "    {\n",
    "        \"City\": [\"Bogota\"],\n",
    "        \"Country\": [\"Colombia\"],\n",
    "        \"Latitude\": [4.624335],\n",
    "        \"Longitude\": [-74.063644],\n",
    "    }\n",
    ")\n",
    "gdf = geopandas.GeoDataFrame(\n",
    "    df, geometry=geopandas.points_from_xy(df.Longitude, df.Latitude), crs=\"EPSG:4326\"\n",
    ")\n",
    "\n",
    "location_df = pd.DataFrame({\"a\": [1, 2],\n",
    "                         \"b\": [5, 6]})\n",
    "\n",
    "\n",
    "location_arr = []\n",
    "\n",
    "for address in address_vec:\n",
    "    adr_city = address + \" Bogota\"\n",
    "    location = geolocator.geocode(adr_city)\n",
    "    #print(adr_city)\n",
    "    #print(location)\n",
    "    if location!=None:\n",
    "        print((location.latitude, location.longitude))\n",
    "        location_arr.append ([location.latitude, location.longitude])\n",
    "\n",
    "\n",
    "#location_df = pd.DataFrame(location_arr, columns=['Address', 'Latitude', 'Longitude'])\n",
    "location_arr\n",
    "location_df = pd.DataFrame(location_arr, columns=['Latitude', 'Longitude'])\n",
    "location_df\n",
    "\n",
    "\n",
    "gdf = geopandas.GeoDataFrame(\n",
    "    location_df, geometry=geopandas.points_from_xy(location_df.Longitude, location_df.Latitude), crs=\"EPSG:4326\"\n",
    ")\n",
    "\n",
    "\n",
    "\n",
    "\n",
    "colombia = geopandas.read_file(geodatasets.get_path('geoda.malaria'))\n",
    "ax = colombia.clip([-74.204251, 4.485794, -74.017856, 4.781398]).plot(color=\"white\", edgecolor=\"black\")\n",
    "\n",
    "\n",
    "\n",
    "gdf.plot(ax=ax, color=\"red\")\n",
    "\n",
    "\n",
    "\n",
    "\n"
   ]
  },
  {
   "cell_type": "code",
   "execution_count": null,
   "metadata": {},
   "outputs": [],
   "source": [
    "#https://geopandas.org/en/stable/docs/user_guide/data_structures.html\n",
    "\n",
    "from geopy.geocoders import Bing\n",
    "\n",
    "location_arr = []\n",
    "\n",
    "for address in address_vec:\n",
    "    adr_city = address + \" Bogota\"\n",
    "    location = geolocator.geocode(adr_city, addressdetails = True)\n",
    "    #print(adr_city)\n",
    "    #print(location)\n",
    "    if location!=None:\n",
    "        print(adr_city)\n",
    "        print(location.raw)\n",
    "        print((location.latitude, location.longitude))\n",
    "        location_arr.append ([location.latitude, location.longitude])\n",
    "\n",
    "#4.5724435,-74.1394699"
   ]
  },
  {
   "cell_type": "code",
   "execution_count": null,
   "metadata": {},
   "outputs": [],
   "source": [
    "import pandas as pd\n",
    "import geopandas\n",
    "import matplotlib.pyplot as plt\n",
    "from geodatasets import get_path\n",
    "import geodatasets\n",
    "\n",
    "from functools import partial\n",
    "\n",
    "from geopy.geocoders import Bing\n",
    "geolocator = Bing(api_key=os.environ['BING_KEY'])\n",
    "\n",
    "address_vec = ['KR 80-CL 2 51', 'AV AVENIDA BOYACA-CL 80 02', 'AV AVENIDA CIUDAD DE CALI-CL 26 02', 'CL 13-KR 72 02' , 'AV AVENIDA BOYACA-CL 13 02']\n",
    "\n",
    "location_arr = []\n",
    "\n",
    "for address in address_vec:\n",
    "    adr_city = address + \" Bogota\"\n",
    "    location = geolocator.geocode(adr_city)\n",
    "    #print(adr_city)\n",
    "    #print(location)\n",
    "    if location!=None:\n",
    "        print((location.latitude, location.longitude))\n",
    "        location_arr.append ([location.latitude, location.longitude])\n",
    "\n",
    "\n",
    "#location_df = pd.DataFrame(location_arr, columns=['Address', 'Latitude', 'Longitude'])\n",
    "location_arr\n",
    "location_df = pd.DataFrame(location_arr, columns=['Latitude', 'Longitude'])\n",
    "location_df\n",
    "\n",
    "\n",
    "gdf = geopandas.GeoDataFrame(\n",
    "    location_df, geometry=geopandas.points_from_xy(location_df.Longitude, location_df.Latitude), crs=\"EPSG:4326\"\n",
    ")\n",
    "\n",
    "\n",
    "\n",
    "\n",
    "colombia = geopandas.read_file(geodatasets.get_path('geoda.malaria'))\n",
    "ax = colombia.clip([-74.204251, 4.485794, -74.017856, 4.781398]).plot(color=\"white\", edgecolor=\"black\")\n",
    "\n",
    "\n",
    "\n",
    "gdf.plot(ax=ax, color=\"red\")"
   ]
  },
  {
   "cell_type": "code",
   "execution_count": 12,
   "metadata": {},
   "outputs": [
    {
     "data": {
      "image/png": "[encoded data removed]",
      "text/plain": [
       "<Figure size 640x480 with 1 Axes>"
      ]
     },
     "metadata": {},
     "output_type": "display_data"
    },
    {
     "data": {
      "image/png": "[encoded data removed]",
      "text/plain": [
       "<Figure size 640x480 with 2 Axes>"
      ]
     },
     "metadata": {},
     "output_type": "display_data"
    }
   ],
   "source": [
    "# https://www.relataly.com/visualize-covid-19-data-on-a-geographic-heat-maps/291/#google_vignette\n",
    "\n",
    "import pandas as pd\n",
    "import geopandas\n",
    "import matplotlib.pyplot as plt\n",
    "from geodatasets import get_path\n",
    "import geodatasets\n",
    "\n",
    "location_df_static = pd.DataFrame(\n",
    "    {\n",
    "        \"Latitude\": [4.6020512, 4.66225405, 4.6374221, 4.600612, 4.6621156 ],\n",
    "        \"Longitude\": [-74.10186975,  -74.1150004, -74.1595407, -74.06999825, -74.1151858],\n",
    "        \"Accidents\": [100, 203, 5, 1, 145],\n",
    "\n",
    "    }\n",
    ")\n",
    "\n",
    "title = 'Accidents Growth Rates'\n",
    "col = 'Accidents'\n",
    "source = 'Source: source'\n",
    "vmin = location_df_static[col].min()\n",
    "vmax = location_df_static[col].max()\n",
    "\n",
    "\n",
    "cmap = 'viridis'\n",
    "\n",
    "gdf_static = geopandas.GeoDataFrame(\n",
    "    location_df_static, geometry=geopandas.points_from_xy(location_df_static.Longitude, location_df_static.Latitude)\n",
    ")\n",
    "\n",
    "\n",
    "geo_df = geopandas.read_file(geodatasets.get_path('geoda.malaria'))\n",
    "#ax = geo_df.clip([-74.204251, 4.485794, -74.017856, 4.781398]).plot( figsize=(20, 20), edgecolor='white', linewidth=1, color='lightblue')\n",
    "ax = geo_df.clip([-74.204251, 4.485794, -74.017856, 4.781398]).plot( edgecolor='white', linewidth=1, color='lightblue')\n",
    "\n",
    "\n",
    "# Print the map\n",
    "#geo_df.plot(figsize=(20, 20), edgecolor='white', linewidth=1, color='lightblue')\n",
    "\n",
    "\n",
    "# Create figure and axes for Matplotlib\n",
    "fig, ax = plt.subplots()\n",
    "#ax = plt.subplots(1, figsize=(20, 8))\n",
    "\n",
    "# Remove the axis\n",
    "ax.axis('off')\n",
    "gdf_static.plot(column=col, ax=ax, edgecolor='0.8', linewidth=1, cmap=cmap)\n",
    "# Add a title\n",
    "ax.set_title(title, fontdict={'fontsize': '25', 'fontweight': '3'})\n",
    "# Create an annotation for the data source\n",
    "ax.annotate(source, xy=(0.3, .08), xycoords='figure fraction', horizontalalignment='left', verticalalignment='bottom', fontsize=10)\n",
    " \n",
    "\n",
    "            \n",
    "# Create colorbar as a legend\n",
    "sm = plt.cm.ScalarMappable(norm=plt.Normalize(vmin=vmin, vmax=vmax), cmap=cmap)\n",
    "# Empty array for the data range\n",
    "sm._A = []\n",
    "# Add the colorbar to the figure\n",
    "cbaxes = fig.add_axes([0.15, 0.25, 0.01, 0.4])\n",
    "cbar = fig.colorbar(sm, cax=cbaxes)\n",
    "\n"
   ]
  },
  {
   "cell_type": "markdown",
   "metadata": {},
   "source": [
    "Getting places with the most accidents\n"
   ]
  },
  {
   "cell_type": "code",
   "execution_count": 4,
   "metadata": {},
   "outputs": [],
   "source": [
    "# create dfs out of 2019 data\n",
    "\n",
    "def make_date(df):\n",
    "    df[\"datetime\"] = pd.to_datetime(df[\"FECHA\"], format=\"mixed\")\n",
    "    \n",
    "def make_datetime(df):\n",
    "    df[\"datetime\"] = pd.to_datetime(df[\"FECHA\"].str.cat(df[\"HORA\"], sep=\" \"), format=\"mixed\")\n",
    "\n",
    "    \n",
    "def clean_direccion(data):\n",
    "     return \" \".join(data.split()[:-1])\n",
    "    \n",
    "siniestros_df['DIRECCION_BASE'] = siniestros_df['DIRECCION'].apply(clean_direccion)\n",
    "make_datetime(siniestros_df)\n",
    "\n",
    "siniestros_2019 = siniestros_df.loc[siniestros_df[\"datetime\"].between(\"2019-01-01\",\"2020-01-01\")]"
   ]
  },
  {
   "cell_type": "code",
   "execution_count": 6,
   "metadata": {},
   "outputs": [
    {
     "data": {
      "text/plain": [
       "count           34991\n",
       "unique          18399\n",
       "top       CL 13-KR 72\n",
       "freq               58\n",
       "Name: DIRECCION_BASE, dtype: object"
      ]
     },
     "execution_count": 6,
     "metadata": {},
     "output_type": "execute_result"
    }
   ],
   "source": [
    "siniestros_2019\n",
    "siniestros_2019.DIRECCION_BASE.describe()"
   ]
  },
  {
   "cell_type": "code",
   "execution_count": 7,
   "metadata": {},
   "outputs": [
    {
     "data": {
      "text/plain": [
       "DIRECCION_BASE\n",
       "CL 13-KR 72                         58\n",
       "AV AVENIDA BOYACA-CL 13             48\n",
       "AV AVENIDA BOYACA-CL 26             45\n",
       "KR 80-CL 2                          44\n",
       "AV AVENIDA DE LAS AMERICAS-KR 68    42\n",
       "                                    ..\n",
       "KR 86-CL 33                          1\n",
       "KR 103A-CL 21                        1\n",
       "KR 86D-CL 42F S                      1\n",
       "KR 94-CL 63 S                        1\n",
       "CL 96A-KR 14Q S                      1\n",
       "Name: count, Length: 18399, dtype: int64"
      ]
     },
     "execution_count": 7,
     "metadata": {},
     "output_type": "execute_result"
    }
   ],
   "source": [
    "siniestros_2019[\"DIRECCION_BASE\"].value_counts()"
   ]
  },
  {
   "cell_type": "code",
   "execution_count": 31,
   "metadata": {},
   "outputs": [
    {
     "data": {
      "text/plain": [
       "DIRECCION_BASE\n",
       "CL 13-KR 72                         58\n",
       "AV AVENIDA BOYACA-CL 13             48\n",
       "AV AVENIDA BOYACA-CL 26             45\n",
       "KR 80-CL 2                          44\n",
       "AV AVENIDA DE LAS AMERICAS-KR 68    42\n",
       "                                    ..\n",
       "CL 26-KR 103                        10\n",
       "AV AVENIDA CIUDAD DE CALI-CL 90     10\n",
       "AV AVENIDA CIUDAD DE CALI-CL 51     10\n",
       "AV AVENIDA DE LAS AMERICAS-KR 62    10\n",
       "AC 13-KR 72                          9\n",
       "Name: count, Length: 326, dtype: int64"
      ]
     },
     "execution_count": 31,
     "metadata": {},
     "output_type": "execute_result"
    }
   ],
   "source": [
    "n = 326 #325 More than 10 2019\n",
    "#siniestros_2019.DIRECCION_BASE.value_counts()[:n].index.tolist()\n",
    "siniestros_2019.DIRECCION_BASE.value_counts()[:n]"
   ]
  },
  {
   "cell_type": "code",
   "execution_count": 68,
   "metadata": {},
   "outputs": [
    {
     "data": {
      "text/plain": [
       "DIRECCION_BASE\n",
       "KR 80-CL 2                 246\n",
       "CL 13-KR 72                240\n",
       "AV AVENIDA BOYACA-CL 13    230\n",
       "AV AVENIDA BOYACA-CL 80    220\n",
       "CL 80-KR 72                218\n",
       "                          ... \n",
       "CL 17A-KR 102                1\n",
       "CL 129-KR 118                1\n",
       "TR 18NBISA-CL 69D S          1\n",
       "KR 100-CL 24G                1\n",
       "CL 142 - KR 146              1\n",
       "Name: count, Length: 57808, dtype: int64"
      ]
     },
     "execution_count": 68,
     "metadata": {},
     "output_type": "execute_result"
    }
   ],
   "source": [
    "n = 313 # More equal than 50 all ds\n",
    "#siniestros_2019.DIRECCION_BASE.value_counts()[:n].index.tolist()\n",
    "siniestros_df.DIRECCION_BASE.value_counts()[:n]\n",
    "#AV AVENIDA CIUDAD DE CALI-CL 19"
   ]
  },
  {
   "cell_type": "code",
   "execution_count": 69,
   "metadata": {},
   "outputs": [],
   "source": [
    "file_name = 'accidents-by-address.csv'\n",
    "siniestros_df.DIRECCION_BASE.value_counts().to_csv(file_name, sep='\\t')"
   ]
  }
 ],
 "metadata": {
  "kernelspec": {
   "display_name": "Python 3 (ipykernel)",
   "language": "python",
   "name": "python3"
  },
  "language_info": {
   "codemirror_mode": {
    "name": "ipython",
    "version": 3
   },
   "file_extension": ".py",
   "mimetype": "text/x-python",
   "name": "python",
   "nbconvert_exporter": "python",
   "pygments_lexer": "ipython3",
   "version": "3.10.13"
  }
 },
 "nbformat": 4,
 "nbformat_minor": 5
}
